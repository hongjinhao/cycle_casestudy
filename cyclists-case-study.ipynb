{
 "cells": [
  {
   "cell_type": "code",
   "execution_count": 1,
   "id": "642d2bf2",
   "metadata": {
    "execution": {
     "iopub.execute_input": "2024-04-23T08:13:12.628635Z",
     "iopub.status.busy": "2024-04-23T08:13:12.627773Z",
     "iopub.status.idle": "2024-04-23T08:13:14.752490Z",
     "shell.execute_reply": "2024-04-23T08:13:14.751673Z"
    },
    "papermill": {
     "duration": 2.15519,
     "end_time": "2024-04-23T08:13:14.754973",
     "exception": false,
     "start_time": "2024-04-23T08:13:12.599783",
     "status": "completed"
    },
    "tags": []
   },
   "outputs": [],
   "source": [
    "import numpy as np\n",
    "import pandas as pd\n",
    "import seaborn as sb"
   ]
  },
  {
   "cell_type": "markdown",
   "id": "acf846c9",
   "metadata": {
    "papermill": {
     "duration": 0.026319,
     "end_time": "2024-04-23T08:13:14.807702",
     "exception": false,
     "start_time": "2024-04-23T08:13:14.781383",
     "status": "completed"
    },
    "tags": []
   },
   "source": [
    "# The Goal: Converting more casual riders to members\n",
    "\n",
    "# The Task: To provide data insights to better understand the difference between casual and member behavours so that the marketing team can better target their campaign. "
   ]
  },
  {
   "cell_type": "markdown",
   "id": "5152e792",
   "metadata": {
    "papermill": {
     "duration": 0.025813,
     "end_time": "2024-04-23T08:13:14.859730",
     "exception": false,
     "start_time": "2024-04-23T08:13:14.833917",
     "status": "completed"
    },
    "tags": []
   },
   "source": [
    "This data analysis is done in Python Jupyter Notebook on the Kaggle website. \n",
    "Python was choosen due to my familiarity of the language and its ease of use with the large variety of data analysis libraries available. \n",
    "However, with python in-memory processes, memory (RAM) might be a constraint. Thus, working with giant datasets would be challenging. Each month's pandas dataframe after augmentation and cleaning takes about 50MB, so its not too big. "
   ]
  },
  {
   "cell_type": "code",
   "execution_count": 2,
   "id": "ef60c866",
   "metadata": {
    "execution": {
     "iopub.execute_input": "2024-04-23T08:13:14.912683Z",
     "iopub.status.busy": "2024-04-23T08:13:14.912124Z",
     "iopub.status.idle": "2024-04-23T08:13:17.147107Z",
     "shell.execute_reply": "2024-04-23T08:13:17.146256Z"
    },
    "papermill": {
     "duration": 2.264687,
     "end_time": "2024-04-23T08:13:17.149689",
     "exception": false,
     "start_time": "2024-04-23T08:13:14.885002",
     "status": "completed"
    },
    "tags": []
   },
   "outputs": [],
   "source": [
    "df = pd.read_csv('/kaggle/input/cyclists/202403-divvy-tripdata/202403-divvy-tripdata.csv')"
   ]
  },
  {
   "cell_type": "code",
   "execution_count": 3,
   "id": "5bd32e78",
   "metadata": {
    "execution": {
     "iopub.execute_input": "2024-04-23T08:13:17.203047Z",
     "iopub.status.busy": "2024-04-23T08:13:17.202415Z",
     "iopub.status.idle": "2024-04-23T08:13:17.209412Z",
     "shell.execute_reply": "2024-04-23T08:13:17.208542Z"
    },
    "papermill": {
     "duration": 0.035767,
     "end_time": "2024-04-23T08:13:17.211470",
     "exception": false,
     "start_time": "2024-04-23T08:13:17.175703",
     "status": "completed"
    },
    "tags": []
   },
   "outputs": [
    {
     "data": {
      "text/plain": [
       "(301687, 13)"
      ]
     },
     "execution_count": 3,
     "metadata": {},
     "output_type": "execute_result"
    }
   ],
   "source": [
    "df.shape"
   ]
  },
  {
   "cell_type": "code",
   "execution_count": 4,
   "id": "49573664",
   "metadata": {
    "execution": {
     "iopub.execute_input": "2024-04-23T08:13:17.312938Z",
     "iopub.status.busy": "2024-04-23T08:13:17.312554Z",
     "iopub.status.idle": "2024-04-23T08:13:17.399235Z",
     "shell.execute_reply": "2024-04-23T08:13:17.398158Z"
    },
    "papermill": {
     "duration": 0.115612,
     "end_time": "2024-04-23T08:13:17.401587",
     "exception": false,
     "start_time": "2024-04-23T08:13:17.285975",
     "status": "completed"
    },
    "tags": []
   },
   "outputs": [
    {
     "data": {
      "text/html": [
       "<div>\n",
       "<style scoped>\n",
       "    .dataframe tbody tr th:only-of-type {\n",
       "        vertical-align: middle;\n",
       "    }\n",
       "\n",
       "    .dataframe tbody tr th {\n",
       "        vertical-align: top;\n",
       "    }\n",
       "\n",
       "    .dataframe thead th {\n",
       "        text-align: right;\n",
       "    }\n",
       "</style>\n",
       "<table border=\"1\" class=\"dataframe\">\n",
       "  <thead>\n",
       "    <tr style=\"text-align: right;\">\n",
       "      <th></th>\n",
       "      <th>start_lat</th>\n",
       "      <th>start_lng</th>\n",
       "      <th>end_lat</th>\n",
       "      <th>end_lng</th>\n",
       "    </tr>\n",
       "  </thead>\n",
       "  <tbody>\n",
       "    <tr>\n",
       "      <th>count</th>\n",
       "      <td>301687.000000</td>\n",
       "      <td>301687.000000</td>\n",
       "      <td>301291.000000</td>\n",
       "      <td>301291.000000</td>\n",
       "    </tr>\n",
       "    <tr>\n",
       "      <th>mean</th>\n",
       "      <td>41.900193</td>\n",
       "      <td>-87.646736</td>\n",
       "      <td>41.900595</td>\n",
       "      <td>-87.646933</td>\n",
       "    </tr>\n",
       "    <tr>\n",
       "      <th>std</th>\n",
       "      <td>0.045687</td>\n",
       "      <td>0.027216</td>\n",
       "      <td>0.045820</td>\n",
       "      <td>0.027379</td>\n",
       "    </tr>\n",
       "    <tr>\n",
       "      <th>min</th>\n",
       "      <td>41.648501</td>\n",
       "      <td>-87.841110</td>\n",
       "      <td>41.630000</td>\n",
       "      <td>-87.870000</td>\n",
       "    </tr>\n",
       "    <tr>\n",
       "      <th>25%</th>\n",
       "      <td>41.880000</td>\n",
       "      <td>-87.660000</td>\n",
       "      <td>41.880000</td>\n",
       "      <td>-87.660274</td>\n",
       "    </tr>\n",
       "    <tr>\n",
       "      <th>50%</th>\n",
       "      <td>41.895634</td>\n",
       "      <td>-87.643320</td>\n",
       "      <td>41.895769</td>\n",
       "      <td>-87.643353</td>\n",
       "    </tr>\n",
       "    <tr>\n",
       "      <th>75%</th>\n",
       "      <td>41.928773</td>\n",
       "      <td>-87.629912</td>\n",
       "      <td>41.929143</td>\n",
       "      <td>-87.629912</td>\n",
       "    </tr>\n",
       "    <tr>\n",
       "      <th>max</th>\n",
       "      <td>42.070000</td>\n",
       "      <td>-87.528232</td>\n",
       "      <td>42.080000</td>\n",
       "      <td>-87.528232</td>\n",
       "    </tr>\n",
       "  </tbody>\n",
       "</table>\n",
       "</div>"
      ],
      "text/plain": [
       "           start_lat      start_lng        end_lat        end_lng\n",
       "count  301687.000000  301687.000000  301291.000000  301291.000000\n",
       "mean       41.900193     -87.646736      41.900595     -87.646933\n",
       "std         0.045687       0.027216       0.045820       0.027379\n",
       "min        41.648501     -87.841110      41.630000     -87.870000\n",
       "25%        41.880000     -87.660000      41.880000     -87.660274\n",
       "50%        41.895634     -87.643320      41.895769     -87.643353\n",
       "75%        41.928773     -87.629912      41.929143     -87.629912\n",
       "max        42.070000     -87.528232      42.080000     -87.528232"
      ]
     },
     "execution_count": 4,
     "metadata": {},
     "output_type": "execute_result"
    }
   ],
   "source": [
    "df.describe()"
   ]
  },
  {
   "cell_type": "code",
   "execution_count": 5,
   "id": "c1fc20eb",
   "metadata": {
    "execution": {
     "iopub.execute_input": "2024-04-23T08:13:17.456214Z",
     "iopub.status.busy": "2024-04-23T08:13:17.455562Z",
     "iopub.status.idle": "2024-04-23T08:13:17.473981Z",
     "shell.execute_reply": "2024-04-23T08:13:17.472913Z"
    },
    "papermill": {
     "duration": 0.048938,
     "end_time": "2024-04-23T08:13:17.476523",
     "exception": false,
     "start_time": "2024-04-23T08:13:17.427585",
     "status": "completed"
    },
    "tags": []
   },
   "outputs": [
    {
     "data": {
      "text/html": [
       "<div>\n",
       "<style scoped>\n",
       "    .dataframe tbody tr th:only-of-type {\n",
       "        vertical-align: middle;\n",
       "    }\n",
       "\n",
       "    .dataframe tbody tr th {\n",
       "        vertical-align: top;\n",
       "    }\n",
       "\n",
       "    .dataframe thead th {\n",
       "        text-align: right;\n",
       "    }\n",
       "</style>\n",
       "<table border=\"1\" class=\"dataframe\">\n",
       "  <thead>\n",
       "    <tr style=\"text-align: right;\">\n",
       "      <th></th>\n",
       "      <th>ride_id</th>\n",
       "      <th>rideable_type</th>\n",
       "      <th>started_at</th>\n",
       "      <th>ended_at</th>\n",
       "      <th>start_station_name</th>\n",
       "      <th>start_station_id</th>\n",
       "      <th>end_station_name</th>\n",
       "      <th>end_station_id</th>\n",
       "      <th>start_lat</th>\n",
       "      <th>start_lng</th>\n",
       "      <th>end_lat</th>\n",
       "      <th>end_lng</th>\n",
       "      <th>member_casual</th>\n",
       "    </tr>\n",
       "  </thead>\n",
       "  <tbody>\n",
       "    <tr>\n",
       "      <th>0</th>\n",
       "      <td>64FBE3BAED5F29E6</td>\n",
       "      <td>electric_bike</td>\n",
       "      <td>2024-03-05 18:33:11</td>\n",
       "      <td>2024-03-05 18:51:48</td>\n",
       "      <td>NaN</td>\n",
       "      <td>NaN</td>\n",
       "      <td>NaN</td>\n",
       "      <td>NaN</td>\n",
       "      <td>41.94</td>\n",
       "      <td>-87.65</td>\n",
       "      <td>41.96</td>\n",
       "      <td>-87.65</td>\n",
       "      <td>member</td>\n",
       "    </tr>\n",
       "    <tr>\n",
       "      <th>1</th>\n",
       "      <td>9991629435C5E20E</td>\n",
       "      <td>electric_bike</td>\n",
       "      <td>2024-03-06 17:15:14</td>\n",
       "      <td>2024-03-06 17:16:04</td>\n",
       "      <td>NaN</td>\n",
       "      <td>NaN</td>\n",
       "      <td>NaN</td>\n",
       "      <td>NaN</td>\n",
       "      <td>41.91</td>\n",
       "      <td>-87.64</td>\n",
       "      <td>41.91</td>\n",
       "      <td>-87.64</td>\n",
       "      <td>member</td>\n",
       "    </tr>\n",
       "    <tr>\n",
       "      <th>2</th>\n",
       "      <td>E5C9FECD5B71BEBD</td>\n",
       "      <td>electric_bike</td>\n",
       "      <td>2024-03-06 17:16:36</td>\n",
       "      <td>2024-03-06 17:19:28</td>\n",
       "      <td>NaN</td>\n",
       "      <td>NaN</td>\n",
       "      <td>NaN</td>\n",
       "      <td>NaN</td>\n",
       "      <td>41.91</td>\n",
       "      <td>-87.64</td>\n",
       "      <td>41.92</td>\n",
       "      <td>-87.64</td>\n",
       "      <td>member</td>\n",
       "    </tr>\n",
       "    <tr>\n",
       "      <th>3</th>\n",
       "      <td>4CEA3EC8906DAEA8</td>\n",
       "      <td>electric_bike</td>\n",
       "      <td>2024-03-03 22:55:54</td>\n",
       "      <td>2024-03-03 22:58:08</td>\n",
       "      <td>NaN</td>\n",
       "      <td>NaN</td>\n",
       "      <td>NaN</td>\n",
       "      <td>NaN</td>\n",
       "      <td>41.90</td>\n",
       "      <td>-87.63</td>\n",
       "      <td>41.89</td>\n",
       "      <td>-87.63</td>\n",
       "      <td>member</td>\n",
       "    </tr>\n",
       "    <tr>\n",
       "      <th>4</th>\n",
       "      <td>77266B408503C55F</td>\n",
       "      <td>electric_bike</td>\n",
       "      <td>2024-03-17 11:15:18</td>\n",
       "      <td>2024-03-17 11:31:18</td>\n",
       "      <td>NaN</td>\n",
       "      <td>NaN</td>\n",
       "      <td>NaN</td>\n",
       "      <td>NaN</td>\n",
       "      <td>41.93</td>\n",
       "      <td>-87.70</td>\n",
       "      <td>41.93</td>\n",
       "      <td>-87.72</td>\n",
       "      <td>member</td>\n",
       "    </tr>\n",
       "  </tbody>\n",
       "</table>\n",
       "</div>"
      ],
      "text/plain": [
       "            ride_id  rideable_type           started_at             ended_at  \\\n",
       "0  64FBE3BAED5F29E6  electric_bike  2024-03-05 18:33:11  2024-03-05 18:51:48   \n",
       "1  9991629435C5E20E  electric_bike  2024-03-06 17:15:14  2024-03-06 17:16:04   \n",
       "2  E5C9FECD5B71BEBD  electric_bike  2024-03-06 17:16:36  2024-03-06 17:19:28   \n",
       "3  4CEA3EC8906DAEA8  electric_bike  2024-03-03 22:55:54  2024-03-03 22:58:08   \n",
       "4  77266B408503C55F  electric_bike  2024-03-17 11:15:18  2024-03-17 11:31:18   \n",
       "\n",
       "  start_station_name start_station_id end_station_name end_station_id  \\\n",
       "0                NaN              NaN              NaN            NaN   \n",
       "1                NaN              NaN              NaN            NaN   \n",
       "2                NaN              NaN              NaN            NaN   \n",
       "3                NaN              NaN              NaN            NaN   \n",
       "4                NaN              NaN              NaN            NaN   \n",
       "\n",
       "   start_lat  start_lng  end_lat  end_lng member_casual  \n",
       "0      41.94     -87.65    41.96   -87.65        member  \n",
       "1      41.91     -87.64    41.91   -87.64        member  \n",
       "2      41.91     -87.64    41.92   -87.64        member  \n",
       "3      41.90     -87.63    41.89   -87.63        member  \n",
       "4      41.93     -87.70    41.93   -87.72        member  "
      ]
     },
     "execution_count": 5,
     "metadata": {},
     "output_type": "execute_result"
    }
   ],
   "source": [
    "df.head()"
   ]
  },
  {
   "cell_type": "code",
   "execution_count": 6,
   "id": "8363c17c",
   "metadata": {
    "execution": {
     "iopub.execute_input": "2024-04-23T08:13:17.532321Z",
     "iopub.status.busy": "2024-04-23T08:13:17.531917Z",
     "iopub.status.idle": "2024-04-23T08:13:17.633130Z",
     "shell.execute_reply": "2024-04-23T08:13:17.631986Z"
    },
    "papermill": {
     "duration": 0.132058,
     "end_time": "2024-04-23T08:13:17.635965",
     "exception": false,
     "start_time": "2024-04-23T08:13:17.503907",
     "status": "completed"
    },
    "tags": []
   },
   "outputs": [],
   "source": [
    "mem = df[\"member_casual\"].value_counts().iloc[0]\n",
    "cas = df[\"member_casual\"].value_counts().iloc[1] "
   ]
  },
  {
   "cell_type": "code",
   "execution_count": 7,
   "id": "49458387",
   "metadata": {
    "execution": {
     "iopub.execute_input": "2024-04-23T08:13:17.691552Z",
     "iopub.status.busy": "2024-04-23T08:13:17.691101Z",
     "iopub.status.idle": "2024-04-23T08:13:17.697586Z",
     "shell.execute_reply": "2024-04-23T08:13:17.696470Z"
    },
    "papermill": {
     "duration": 0.036657,
     "end_time": "2024-04-23T08:13:17.699768",
     "exception": false,
     "start_time": "2024-04-23T08:13:17.663111",
     "status": "completed"
    },
    "tags": []
   },
   "outputs": [
    {
     "name": "stdout",
     "output_type": "stream",
     "text": [
      "73.0 27.0\n"
     ]
    }
   ],
   "source": [
    "total = mem + cas\n",
    "print(round(mem/total * 100, 0), round(cas/total*100, 0))"
   ]
  },
  {
   "cell_type": "code",
   "execution_count": 8,
   "id": "da24d866",
   "metadata": {
    "execution": {
     "iopub.execute_input": "2024-04-23T08:13:17.754107Z",
     "iopub.status.busy": "2024-04-23T08:13:17.753722Z",
     "iopub.status.idle": "2024-04-23T08:13:18.869609Z",
     "shell.execute_reply": "2024-04-23T08:13:18.868566Z"
    },
    "papermill": {
     "duration": 1.145817,
     "end_time": "2024-04-23T08:13:18.871730",
     "exception": false,
     "start_time": "2024-04-23T08:13:17.725913",
     "status": "completed"
    },
    "tags": []
   },
   "outputs": [
    {
     "data": {
      "text/plain": [
       "<seaborn.axisgrid.FacetGrid at 0x7c917458b2b0>"
      ]
     },
     "execution_count": 8,
     "metadata": {},
     "output_type": "execute_result"
    },
    {
     "data": {
      "image/png": "[encoded data removed]",
      "text/plain": [
       "<Figure size 800x800 with 1 Axes>"
      ]
     },
     "metadata": {},
     "output_type": "display_data"
    }
   ],
   "source": [
    "sb.catplot(y = \"member_casual\", data = df, kind = \"count\", height = 8)"
   ]
  },
  {
   "cell_type": "markdown",
   "id": "2b23388d",
   "metadata": {
    "papermill": {
     "duration": 0.026361,
     "end_time": "2024-04-23T08:13:18.925561",
     "exception": false,
     "start_time": "2024-04-23T08:13:18.899200",
     "status": "completed"
    },
    "tags": []
   },
   "source": [
    "# Finding aggregate of member-casual uses over the 12 months \n",
    "For each dataset, the member_casual data is aggregated into counts and percentages. After which, they are combined into a single dataframe for analysis. "
   ]
  },
  {
   "cell_type": "code",
   "execution_count": 9,
   "id": "0dca28d9",
   "metadata": {
    "execution": {
     "iopub.execute_input": "2024-04-23T08:13:18.982340Z",
     "iopub.status.busy": "2024-04-23T08:13:18.981603Z",
     "iopub.status.idle": "2024-04-23T08:13:18.987700Z",
     "shell.execute_reply": "2024-04-23T08:13:18.986929Z"
    },
    "papermill": {
     "duration": 0.036726,
     "end_time": "2024-04-23T08:13:18.989688",
     "exception": false,
     "start_time": "2024-04-23T08:13:18.952962",
     "status": "completed"
    },
    "tags": []
   },
   "outputs": [],
   "source": [
    "def category_stats(df, category_col):\n",
    "    # Calculate counts\n",
    "    counts = df[category_col].value_counts()\n",
    "    \n",
    "    # Calculate percentages\n",
    "    percentages = df[category_col].value_counts(normalize=True) * 100\n",
    "    \n",
    "    # Combine counts and percentages into a DataFrame\n",
    "    stats_df = pd.DataFrame({\n",
    "        'Count': counts,\n",
    "        'Percentage': percentages\n",
    "    })\n",
    "    \n",
    "    return stats_df"
   ]
  },
  {
   "cell_type": "code",
   "execution_count": 10,
   "id": "a5a9982c",
   "metadata": {
    "execution": {
     "iopub.execute_input": "2024-04-23T08:13:19.047059Z",
     "iopub.status.busy": "2024-04-23T08:13:19.046655Z",
     "iopub.status.idle": "2024-04-23T08:14:01.140555Z",
     "shell.execute_reply": "2024-04-23T08:14:01.139400Z"
    },
    "papermill": {
     "duration": 42.125838,
     "end_time": "2024-04-23T08:14:01.143527",
     "exception": false,
     "start_time": "2024-04-23T08:13:19.017689",
     "status": "completed"
    },
    "tags": []
   },
   "outputs": [],
   "source": [
    "category_col = 'member_casual'\n",
    "list_of_dfs = []  \n",
    "\n",
    "for x in range(4,10):\n",
    "    df = pd.read_csv(f\"/kaggle/input/cyclists/20230{x}-divvy-tripdata/20230{x}-divvy-tripdata.csv\")\n",
    "    list_of_dfs.append(df)\n",
    "for x in range(10,13):\n",
    "    df = pd.read_csv(f\"/kaggle/input/cyclists/2023{x}-divvy-tripdata/2023{x}-divvy-tripdata.csv\")\n",
    "    list_of_dfs.append(df)\n",
    "for x in range(1,4):\n",
    "    df = pd.read_csv(f\"/kaggle/input/cyclists/20240{x}-divvy-tripdata/20240{x}-divvy-tripdata.csv\")\n",
    "    list_of_dfs.append(df)\n",
    "    \n",
    "# List to hold all stats DataFrames\n",
    "all_stats = []\n",
    "\n",
    "# Process each DataFrame\n",
    "for df in list_of_dfs:\n",
    "    stats_df = category_stats(df, category_col)\n",
    "    all_stats.append(stats_df)"
   ]
  },
  {
   "cell_type": "code",
   "execution_count": 11,
   "id": "71574e9a",
   "metadata": {
    "execution": {
     "iopub.execute_input": "2024-04-23T08:14:01.199587Z",
     "iopub.status.busy": "2024-04-23T08:14:01.199180Z",
     "iopub.status.idle": "2024-04-23T08:14:01.208334Z",
     "shell.execute_reply": "2024-04-23T08:14:01.207288Z"
    },
    "papermill": {
     "duration": 0.039731,
     "end_time": "2024-04-23T08:14:01.210626",
     "exception": false,
     "start_time": "2024-04-23T08:14:01.170895",
     "status": "completed"
    },
    "tags": []
   },
   "outputs": [],
   "source": [
    "# Concatenate all statistics DataFrames\n",
    "final_stats_df = pd.concat(all_stats, keys=[f'Month{i+1}' for i in range(len(list_of_dfs))])"
   ]
  },
  {
   "cell_type": "code",
   "execution_count": 12,
   "id": "abf2f28b",
   "metadata": {
    "execution": {
     "iopub.execute_input": "2024-04-23T08:14:01.268343Z",
     "iopub.status.busy": "2024-04-23T08:14:01.267273Z",
     "iopub.status.idle": "2024-04-23T08:14:01.276889Z",
     "shell.execute_reply": "2024-04-23T08:14:01.275895Z"
    },
    "papermill": {
     "duration": 0.040383,
     "end_time": "2024-04-23T08:14:01.278984",
     "exception": false,
     "start_time": "2024-04-23T08:14:01.238601",
     "status": "completed"
    },
    "tags": []
   },
   "outputs": [
    {
     "name": "stdout",
     "output_type": "stream",
     "text": [
      "                        Count  Percentage\n",
      "        member_casual                    \n",
      "Month1  member         279305   65.473874\n",
      "        casual         147285   34.526126\n",
      "Month2  member         370646   61.281325\n",
      "        casual         234181   38.718675\n",
      "Month3  member         418388   58.140291\n",
      "        casual         301230   41.859709\n",
      "Month4  member         436292   56.834755\n",
      "        casual         331358   43.165245\n",
      "Month5  member         460563   59.682153\n",
      "        casual         311130   40.317847\n",
      "Month6  member         404736   60.737337\n",
      "        casual         261635   39.262663\n",
      "Month7  member         360042   67.032822\n",
      "        casual         177071   32.967178\n",
      "Month8  member         264126   72.858727\n",
      "        casual          98392   27.141273\n",
      "Month9  member         172401   76.939658\n",
      "        casual          51672   23.060342\n",
      "Month10 member         120413   83.116247\n",
      "        casual          24460   16.883753\n",
      "Month11 member         176001   78.866215\n",
      "        casual          47163   21.133785\n",
      "Month12 member         219137   72.637203\n",
      "        casual          82550   27.362797\n"
     ]
    }
   ],
   "source": [
    "print(final_stats_df)"
   ]
  },
  {
   "cell_type": "code",
   "execution_count": 13,
   "id": "008d85da",
   "metadata": {
    "execution": {
     "iopub.execute_input": "2024-04-23T08:14:01.335560Z",
     "iopub.status.busy": "2024-04-23T08:14:01.334966Z",
     "iopub.status.idle": "2024-04-23T08:14:01.342984Z",
     "shell.execute_reply": "2024-04-23T08:14:01.342252Z"
    },
    "papermill": {
     "duration": 0.038869,
     "end_time": "2024-04-23T08:14:01.345115",
     "exception": false,
     "start_time": "2024-04-23T08:14:01.306246",
     "status": "completed"
    },
    "tags": []
   },
   "outputs": [],
   "source": [
    "final_stats_df.to_csv('monthly_counts.csv')"
   ]
  },
  {
   "cell_type": "code",
   "execution_count": 14,
   "id": "400e0454",
   "metadata": {
    "execution": {
     "iopub.execute_input": "2024-04-23T08:14:01.400733Z",
     "iopub.status.busy": "2024-04-23T08:14:01.400090Z",
     "iopub.status.idle": "2024-04-23T08:14:01.407113Z",
     "shell.execute_reply": "2024-04-23T08:14:01.406368Z"
    },
    "papermill": {
     "duration": 0.037449,
     "end_time": "2024-04-23T08:14:01.409225",
     "exception": false,
     "start_time": "2024-04-23T08:14:01.371776",
     "status": "completed"
    },
    "tags": []
   },
   "outputs": [],
   "source": [
    "df_reset = final_stats_df.reset_index()\n",
    "filtered_df = df_reset[df_reset['member_casual'] == 'member']"
   ]
  },
  {
   "cell_type": "code",
   "execution_count": 15,
   "id": "be42a84d",
   "metadata": {
    "execution": {
     "iopub.execute_input": "2024-04-23T08:14:01.465679Z",
     "iopub.status.busy": "2024-04-23T08:14:01.465253Z",
     "iopub.status.idle": "2024-04-23T08:14:01.482871Z",
     "shell.execute_reply": "2024-04-23T08:14:01.481709Z"
    },
    "papermill": {
     "duration": 0.048657,
     "end_time": "2024-04-23T08:14:01.484961",
     "exception": false,
     "start_time": "2024-04-23T08:14:01.436304",
     "status": "completed"
    },
    "tags": []
   },
   "outputs": [
    {
     "name": "stdout",
     "output_type": "stream",
     "text": [
      "<class 'pandas.core.frame.DataFrame'>\n",
      "Index: 12 entries, 0 to 22\n",
      "Data columns (total 4 columns):\n",
      " #   Column         Non-Null Count  Dtype  \n",
      "---  ------         --------------  -----  \n",
      " 0   level_0        12 non-null     object \n",
      " 1   member_casual  12 non-null     object \n",
      " 2   Count          12 non-null     int64  \n",
      " 3   Percentage     12 non-null     float64\n",
      "dtypes: float64(1), int64(1), object(2)\n",
      "memory usage: 480.0+ bytes\n"
     ]
    }
   ],
   "source": [
    "filtered_df.info()"
   ]
  },
  {
   "cell_type": "code",
   "execution_count": 16,
   "id": "b6068909",
   "metadata": {
    "execution": {
     "iopub.execute_input": "2024-04-23T08:14:01.541637Z",
     "iopub.status.busy": "2024-04-23T08:14:01.540693Z",
     "iopub.status.idle": "2024-04-23T08:14:01.547184Z",
     "shell.execute_reply": "2024-04-23T08:14:01.546478Z"
    },
    "papermill": {
     "duration": 0.037247,
     "end_time": "2024-04-23T08:14:01.549156",
     "exception": false,
     "start_time": "2024-04-23T08:14:01.511909",
     "status": "completed"
    },
    "tags": []
   },
   "outputs": [],
   "source": [
    "prepared_df = filtered_df[['level_0', 'Count']]"
   ]
  },
  {
   "cell_type": "markdown",
   "id": "cb302325",
   "metadata": {
    "execution": {
     "iopub.execute_input": "2024-04-17T09:33:06.789276Z",
     "iopub.status.busy": "2024-04-17T09:33:06.788832Z",
     "iopub.status.idle": "2024-04-17T09:33:06.794481Z",
     "shell.execute_reply": "2024-04-17T09:33:06.793231Z",
     "shell.execute_reply.started": "2024-04-17T09:33:06.789240Z"
    },
    "papermill": {
     "duration": 0.026375,
     "end_time": "2024-04-23T08:14:01.601598",
     "exception": false,
     "start_time": "2024-04-23T08:14:01.575223",
     "status": "completed"
    },
    "tags": []
   },
   "source": [
    "# Plotting the graph of members-casual counts and percentages over 12 months"
   ]
  },
  {
   "cell_type": "code",
   "execution_count": 17,
   "id": "47da2c2c",
   "metadata": {
    "execution": {
     "iopub.execute_input": "2024-04-23T08:14:01.656606Z",
     "iopub.status.busy": "2024-04-23T08:14:01.655897Z",
     "iopub.status.idle": "2024-04-23T08:14:01.918208Z",
     "shell.execute_reply": "2024-04-23T08:14:01.917169Z"
    },
    "papermill": {
     "duration": 0.292578,
     "end_time": "2024-04-23T08:14:01.920421",
     "exception": false,
     "start_time": "2024-04-23T08:14:01.627843",
     "status": "completed"
    },
    "tags": []
   },
   "outputs": [
    {
     "data": {
      "image/png": "[encoded data removed]",
      "text/plain": [
       "<Figure size 640x480 with 1 Axes>"
      ]
     },
     "metadata": {},
     "output_type": "display_data"
    }
   ],
   "source": [
    "import seaborn as sb\n",
    "import matplotlib.pyplot as plt\n",
    "\n",
    "# Assuming 'prepared_df' is already defined and loaded\n",
    "sb.barplot(x='level_0', y='Count', data=prepared_df)\n",
    "\n",
    "# Adding labels and title\n",
    "plt.xlabel('Months')  # Change 'Category' to your actual x-axis label\n",
    "plt.ylabel('Count')  # Y-axis label\n",
    "plt.title('Member counts over 12 months')  # Title of the plot\n",
    "\n",
    "plt.show()\n"
   ]
  },
  {
   "cell_type": "code",
   "execution_count": 18,
   "id": "e36dd857",
   "metadata": {
    "execution": {
     "iopub.execute_input": "2024-04-23T08:14:01.978639Z",
     "iopub.status.busy": "2024-04-23T08:14:01.978208Z",
     "iopub.status.idle": "2024-04-23T08:14:02.265646Z",
     "shell.execute_reply": "2024-04-23T08:14:02.264564Z"
    },
    "papermill": {
     "duration": 0.319256,
     "end_time": "2024-04-23T08:14:02.268036",
     "exception": false,
     "start_time": "2024-04-23T08:14:01.948780",
     "status": "completed"
    },
    "tags": []
   },
   "outputs": [
    {
     "data": {
      "image/png": "[encoded data removed]",
      "text/plain": [
       "<Figure size 640x480 with 1 Axes>"
      ]
     },
     "metadata": {},
     "output_type": "display_data"
    }
   ],
   "source": [
    "filtered_df = df_reset[df_reset['member_casual'] == 'casual']\n",
    "prepared_df = filtered_df[['level_0', 'Count']]\n",
    "\n",
    "# Assuming 'prepared_df' is already defined and loaded\n",
    "sb.barplot(x='level_0', y='Count', data=prepared_df)\n",
    "\n",
    "# Adding labels and title\n",
    "plt.xlabel('Months')  # Change 'Category' to your actual x-axis label\n",
    "plt.ylabel('Count')  # Y-axis label\n",
    "plt.title('Casual counts over 12 months')  # Title of the plot\n",
    "\n",
    "plt.show()"
   ]
  },
  {
   "cell_type": "code",
   "execution_count": 19,
   "id": "6fb7a8f9",
   "metadata": {
    "execution": {
     "iopub.execute_input": "2024-04-23T08:14:02.327402Z",
     "iopub.status.busy": "2024-04-23T08:14:02.326991Z",
     "iopub.status.idle": "2024-04-23T08:14:02.581783Z",
     "shell.execute_reply": "2024-04-23T08:14:02.580709Z"
    },
    "papermill": {
     "duration": 0.287448,
     "end_time": "2024-04-23T08:14:02.584260",
     "exception": false,
     "start_time": "2024-04-23T08:14:02.296812",
     "status": "completed"
    },
    "tags": []
   },
   "outputs": [
    {
     "data": {
      "image/png": "[encoded data removed]",
      "text/plain": [
       "<Figure size 640x480 with 1 Axes>"
      ]
     },
     "metadata": {},
     "output_type": "display_data"
    }
   ],
   "source": [
    "filtered_df = df_reset[df_reset['member_casual'] == 'casual']\n",
    "prepared_df = filtered_df[['level_0', 'Percentage']]\n",
    "\n",
    "# Assuming 'prepared_df' is already defined and loaded\n",
    "sb.barplot(x='level_0', y='Percentage', data=prepared_df)\n",
    "\n",
    "# Adding labels and title\n",
    "plt.xlabel('Months')  # Change 'Category' to your actual x-axis label\n",
    "plt.ylabel('Percentage')  # Y-axis label\n",
    "plt.title('Casual percentage over 12 months')  # Title of the plot\n",
    "\n",
    "plt.show()"
   ]
  },
  {
   "cell_type": "code",
   "execution_count": 20,
   "id": "48a399ba",
   "metadata": {
    "execution": {
     "iopub.execute_input": "2024-04-23T08:14:02.642931Z",
     "iopub.status.busy": "2024-04-23T08:14:02.642153Z",
     "iopub.status.idle": "2024-04-23T08:14:02.927837Z",
     "shell.execute_reply": "2024-04-23T08:14:02.926581Z"
    },
    "papermill": {
     "duration": 0.319106,
     "end_time": "2024-04-23T08:14:02.931562",
     "exception": false,
     "start_time": "2024-04-23T08:14:02.612456",
     "status": "completed"
    },
    "tags": []
   },
   "outputs": [
    {
     "data": {
      "image/png": "[encoded data removed]",
      "text/plain": [
       "<Figure size 640x480 with 1 Axes>"
      ]
     },
     "metadata": {},
     "output_type": "display_data"
    }
   ],
   "source": [
    "filtered_df = df_reset[df_reset['member_casual'] == 'member']\n",
    "prepared_df = filtered_df[['level_0', 'Percentage']]\n",
    "# Assuming 'prepared_df' is already defined and loaded\n",
    "sb.barplot(x='level_0', y='Percentage', data=prepared_df)\n",
    "\n",
    "# Adding labels and title\n",
    "plt.xlabel('Months')  # Change 'Category' to your actual x-axis label\n",
    "plt.ylabel('Percentage')  # Y-axis label\n",
    "plt.title('Member percentage over 12 months')  # Title of the plot\n",
    "\n",
    "plt.show()"
   ]
  },
  {
   "cell_type": "markdown",
   "id": "7a47b50b",
   "metadata": {
    "papermill": {
     "duration": 0.0293,
     "end_time": "2024-04-23T08:14:02.989989",
     "exception": false,
     "start_time": "2024-04-23T08:14:02.960689",
     "status": "completed"
    },
    "tags": []
   },
   "source": [
    "From these aggregate bar graphs, it can be observed that the percentage of casual riders is at its highest in months 3-5, which refers to the months of June to Aug 2023, at over 40%. \n",
    "This could either be a seasonal increase due to the summer months or due to marketing efforts during that period of time, or both. \n",
    "With this surge in casual ridership during this period, it is the best time to focus the efforts of converting them to members. "
   ]
  },
  {
   "cell_type": "code",
   "execution_count": null,
   "id": "caeba80b",
   "metadata": {
    "papermill": {
     "duration": 0.028788,
     "end_time": "2024-04-23T08:14:03.048627",
     "exception": false,
     "start_time": "2024-04-23T08:14:03.019839",
     "status": "completed"
    },
    "tags": []
   },
   "outputs": [],
   "source": []
  },
  {
   "cell_type": "markdown",
   "id": "a34ba4d2",
   "metadata": {
    "execution": {
     "iopub.execute_input": "2024-04-17T09:34:19.167075Z",
     "iopub.status.busy": "2024-04-17T09:34:19.166547Z",
     "iopub.status.idle": "2024-04-17T09:34:19.172416Z",
     "shell.execute_reply": "2024-04-17T09:34:19.171351Z",
     "shell.execute_reply.started": "2024-04-17T09:34:19.167031Z"
    },
    "papermill": {
     "duration": 0.027709,
     "end_time": "2024-04-23T08:14:03.106385",
     "exception": false,
     "start_time": "2024-04-23T08:14:03.078676",
     "status": "completed"
    },
    "tags": []
   },
   "source": [
    "# Data Cleaning"
   ]
  },
  {
   "cell_type": "markdown",
   "id": "7d753e45",
   "metadata": {
    "papermill": {
     "duration": 0.02775,
     "end_time": "2024-04-23T08:14:03.161801",
     "exception": false,
     "start_time": "2024-04-23T08:14:03.134051",
     "status": "completed"
    },
    "tags": []
   },
   "source": [
    "Looking through the data on kaggle, the **start station and end station columns** are abit confusing because there are many nil rows (15% are null). The rest of the columns have no null rows. \n",
    "\n",
    "This analysis is using a dataset with only 12 months, which might not give a very insightful data for longer term analysis. "
   ]
  },
  {
   "cell_type": "code",
   "execution_count": null,
   "id": "6a4b59b5",
   "metadata": {
    "papermill": {
     "duration": 0.027948,
     "end_time": "2024-04-23T08:14:03.217807",
     "exception": false,
     "start_time": "2024-04-23T08:14:03.189859",
     "status": "completed"
    },
    "tags": []
   },
   "outputs": [],
   "source": []
  },
  {
   "cell_type": "markdown",
   "id": "e836d1b9",
   "metadata": {
    "papermill": {
     "duration": 0.027772,
     "end_time": "2024-04-23T08:14:03.273998",
     "exception": false,
     "start_time": "2024-04-23T08:14:03.246226",
     "status": "completed"
    },
    "tags": []
   },
   "source": [
    "# Data Augmentation\n",
    "Adding a new column for ride_length and day_of_wk "
   ]
  },
  {
   "cell_type": "code",
   "execution_count": 21,
   "id": "5dc20d65",
   "metadata": {
    "execution": {
     "iopub.execute_input": "2024-04-23T08:14:03.333908Z",
     "iopub.status.busy": "2024-04-23T08:14:03.333501Z",
     "iopub.status.idle": "2024-04-23T08:14:04.672686Z",
     "shell.execute_reply": "2024-04-23T08:14:04.671644Z"
    },
    "papermill": {
     "duration": 1.372105,
     "end_time": "2024-04-23T08:14:04.675251",
     "exception": false,
     "start_time": "2024-04-23T08:14:03.303146",
     "status": "completed"
    },
    "tags": []
   },
   "outputs": [],
   "source": [
    "df = pd.read_csv('/kaggle/input/cyclists/202403-divvy-tripdata/202403-divvy-tripdata.csv')"
   ]
  },
  {
   "cell_type": "code",
   "execution_count": 22,
   "id": "a88e12c8",
   "metadata": {
    "execution": {
     "iopub.execute_input": "2024-04-23T08:14:04.732177Z",
     "iopub.status.busy": "2024-04-23T08:14:04.731454Z",
     "iopub.status.idle": "2024-04-23T08:14:04.997991Z",
     "shell.execute_reply": "2024-04-23T08:14:04.996858Z"
    },
    "papermill": {
     "duration": 0.297603,
     "end_time": "2024-04-23T08:14:05.000623",
     "exception": false,
     "start_time": "2024-04-23T08:14:04.703020",
     "status": "completed"
    },
    "tags": []
   },
   "outputs": [
    {
     "name": "stdout",
     "output_type": "stream",
     "text": [
      "<class 'pandas.core.frame.DataFrame'>\n",
      "RangeIndex: 301687 entries, 0 to 301686\n",
      "Data columns (total 13 columns):\n",
      " #   Column              Non-Null Count   Dtype  \n",
      "---  ------              --------------   -----  \n",
      " 0   ride_id             301687 non-null  object \n",
      " 1   rideable_type       301687 non-null  object \n",
      " 2   started_at          301687 non-null  object \n",
      " 3   ended_at            301687 non-null  object \n",
      " 4   start_station_name  257432 non-null  object \n",
      " 5   start_station_id    257432 non-null  object \n",
      " 6   end_station_name    254547 non-null  object \n",
      " 7   end_station_id      254547 non-null  object \n",
      " 8   start_lat           301687 non-null  float64\n",
      " 9   start_lng           301687 non-null  float64\n",
      " 10  end_lat             301291 non-null  float64\n",
      " 11  end_lng             301291 non-null  float64\n",
      " 12  member_casual       301687 non-null  object \n",
      "dtypes: float64(4), object(9)\n",
      "memory usage: 29.9+ MB\n"
     ]
    }
   ],
   "source": [
    "df.info()"
   ]
  },
  {
   "cell_type": "code",
   "execution_count": 23,
   "id": "d05de34d",
   "metadata": {
    "execution": {
     "iopub.execute_input": "2024-04-23T08:14:05.062735Z",
     "iopub.status.busy": "2024-04-23T08:14:05.062369Z",
     "iopub.status.idle": "2024-04-23T08:14:05.614197Z",
     "shell.execute_reply": "2024-04-23T08:14:05.613257Z"
    },
    "papermill": {
     "duration": 0.586858,
     "end_time": "2024-04-23T08:14:05.618316",
     "exception": false,
     "start_time": "2024-04-23T08:14:05.031458",
     "status": "completed"
    },
    "tags": []
   },
   "outputs": [
    {
     "name": "stdout",
     "output_type": "stream",
     "text": [
      "<class 'pandas.core.frame.DataFrame'>\n",
      "RangeIndex: 301687 entries, 0 to 301686\n",
      "Data columns (total 16 columns):\n",
      " #   Column              Non-Null Count   Dtype          \n",
      "---  ------              --------------   -----          \n",
      " 0   ride_id             301687 non-null  object         \n",
      " 1   rideable_type       301687 non-null  object         \n",
      " 2   started_at          301687 non-null  object         \n",
      " 3   ended_at            301687 non-null  object         \n",
      " 4   start_station_name  257432 non-null  object         \n",
      " 5   start_station_id    257432 non-null  object         \n",
      " 6   end_station_name    254547 non-null  object         \n",
      " 7   end_station_id      254547 non-null  object         \n",
      " 8   start_lat           301687 non-null  float64        \n",
      " 9   start_lng           301687 non-null  float64        \n",
      " 10  end_lat             301291 non-null  float64        \n",
      " 11  end_lng             301291 non-null  float64        \n",
      " 12  member_casual       301687 non-null  object         \n",
      " 13  Start               301687 non-null  datetime64[ns] \n",
      " 14  End                 301687 non-null  datetime64[ns] \n",
      " 15  Duration            301687 non-null  timedelta64[ns]\n",
      "dtypes: datetime64[ns](2), float64(4), object(9), timedelta64[ns](1)\n",
      "memory usage: 36.8+ MB\n"
     ]
    }
   ],
   "source": [
    "# Convert columns to datetime\n",
    "df['Start'] = pd.to_datetime(df['started_at'])\n",
    "df['End'] = pd.to_datetime(df['ended_at'])\n",
    "# Calculate the difference\n",
    "df['Duration'] = df['End'] - df['Start']\n",
    "\n",
    "df.info()"
   ]
  },
  {
   "cell_type": "code",
   "execution_count": 24,
   "id": "568e863d",
   "metadata": {
    "execution": {
     "iopub.execute_input": "2024-04-23T08:14:05.679286Z",
     "iopub.status.busy": "2024-04-23T08:14:05.678746Z",
     "iopub.status.idle": "2024-04-23T08:14:05.699566Z",
     "shell.execute_reply": "2024-04-23T08:14:05.698875Z"
    },
    "papermill": {
     "duration": 0.05344,
     "end_time": "2024-04-23T08:14:05.702523",
     "exception": false,
     "start_time": "2024-04-23T08:14:05.649083",
     "status": "completed"
    },
    "tags": []
   },
   "outputs": [
    {
     "data": {
      "text/html": [
       "<div>\n",
       "<style scoped>\n",
       "    .dataframe tbody tr th:only-of-type {\n",
       "        vertical-align: middle;\n",
       "    }\n",
       "\n",
       "    .dataframe tbody tr th {\n",
       "        vertical-align: top;\n",
       "    }\n",
       "\n",
       "    .dataframe thead th {\n",
       "        text-align: right;\n",
       "    }\n",
       "</style>\n",
       "<table border=\"1\" class=\"dataframe\">\n",
       "  <thead>\n",
       "    <tr style=\"text-align: right;\">\n",
       "      <th></th>\n",
       "      <th>ride_id</th>\n",
       "      <th>rideable_type</th>\n",
       "      <th>started_at</th>\n",
       "      <th>ended_at</th>\n",
       "      <th>start_station_name</th>\n",
       "      <th>start_station_id</th>\n",
       "      <th>end_station_name</th>\n",
       "      <th>end_station_id</th>\n",
       "      <th>start_lat</th>\n",
       "      <th>start_lng</th>\n",
       "      <th>end_lat</th>\n",
       "      <th>end_lng</th>\n",
       "      <th>member_casual</th>\n",
       "      <th>Start</th>\n",
       "      <th>End</th>\n",
       "      <th>Duration</th>\n",
       "    </tr>\n",
       "  </thead>\n",
       "  <tbody>\n",
       "    <tr>\n",
       "      <th>0</th>\n",
       "      <td>64FBE3BAED5F29E6</td>\n",
       "      <td>electric_bike</td>\n",
       "      <td>2024-03-05 18:33:11</td>\n",
       "      <td>2024-03-05 18:51:48</td>\n",
       "      <td>NaN</td>\n",
       "      <td>NaN</td>\n",
       "      <td>NaN</td>\n",
       "      <td>NaN</td>\n",
       "      <td>41.94</td>\n",
       "      <td>-87.65</td>\n",
       "      <td>41.96</td>\n",
       "      <td>-87.65</td>\n",
       "      <td>member</td>\n",
       "      <td>2024-03-05 18:33:11</td>\n",
       "      <td>2024-03-05 18:51:48</td>\n",
       "      <td>0 days 00:18:37</td>\n",
       "    </tr>\n",
       "    <tr>\n",
       "      <th>1</th>\n",
       "      <td>9991629435C5E20E</td>\n",
       "      <td>electric_bike</td>\n",
       "      <td>2024-03-06 17:15:14</td>\n",
       "      <td>2024-03-06 17:16:04</td>\n",
       "      <td>NaN</td>\n",
       "      <td>NaN</td>\n",
       "      <td>NaN</td>\n",
       "      <td>NaN</td>\n",
       "      <td>41.91</td>\n",
       "      <td>-87.64</td>\n",
       "      <td>41.91</td>\n",
       "      <td>-87.64</td>\n",
       "      <td>member</td>\n",
       "      <td>2024-03-06 17:15:14</td>\n",
       "      <td>2024-03-06 17:16:04</td>\n",
       "      <td>0 days 00:00:50</td>\n",
       "    </tr>\n",
       "    <tr>\n",
       "      <th>2</th>\n",
       "      <td>E5C9FECD5B71BEBD</td>\n",
       "      <td>electric_bike</td>\n",
       "      <td>2024-03-06 17:16:36</td>\n",
       "      <td>2024-03-06 17:19:28</td>\n",
       "      <td>NaN</td>\n",
       "      <td>NaN</td>\n",
       "      <td>NaN</td>\n",
       "      <td>NaN</td>\n",
       "      <td>41.91</td>\n",
       "      <td>-87.64</td>\n",
       "      <td>41.92</td>\n",
       "      <td>-87.64</td>\n",
       "      <td>member</td>\n",
       "      <td>2024-03-06 17:16:36</td>\n",
       "      <td>2024-03-06 17:19:28</td>\n",
       "      <td>0 days 00:02:52</td>\n",
       "    </tr>\n",
       "    <tr>\n",
       "      <th>3</th>\n",
       "      <td>4CEA3EC8906DAEA8</td>\n",
       "      <td>electric_bike</td>\n",
       "      <td>2024-03-03 22:55:54</td>\n",
       "      <td>2024-03-03 22:58:08</td>\n",
       "      <td>NaN</td>\n",
       "      <td>NaN</td>\n",
       "      <td>NaN</td>\n",
       "      <td>NaN</td>\n",
       "      <td>41.90</td>\n",
       "      <td>-87.63</td>\n",
       "      <td>41.89</td>\n",
       "      <td>-87.63</td>\n",
       "      <td>member</td>\n",
       "      <td>2024-03-03 22:55:54</td>\n",
       "      <td>2024-03-03 22:58:08</td>\n",
       "      <td>0 days 00:02:14</td>\n",
       "    </tr>\n",
       "    <tr>\n",
       "      <th>4</th>\n",
       "      <td>77266B408503C55F</td>\n",
       "      <td>electric_bike</td>\n",
       "      <td>2024-03-17 11:15:18</td>\n",
       "      <td>2024-03-17 11:31:18</td>\n",
       "      <td>NaN</td>\n",
       "      <td>NaN</td>\n",
       "      <td>NaN</td>\n",
       "      <td>NaN</td>\n",
       "      <td>41.93</td>\n",
       "      <td>-87.70</td>\n",
       "      <td>41.93</td>\n",
       "      <td>-87.72</td>\n",
       "      <td>member</td>\n",
       "      <td>2024-03-17 11:15:18</td>\n",
       "      <td>2024-03-17 11:31:18</td>\n",
       "      <td>0 days 00:16:00</td>\n",
       "    </tr>\n",
       "  </tbody>\n",
       "</table>\n",
       "</div>"
      ],
      "text/plain": [
       "            ride_id  rideable_type           started_at             ended_at  \\\n",
       "0  64FBE3BAED5F29E6  electric_bike  2024-03-05 18:33:11  2024-03-05 18:51:48   \n",
       "1  9991629435C5E20E  electric_bike  2024-03-06 17:15:14  2024-03-06 17:16:04   \n",
       "2  E5C9FECD5B71BEBD  electric_bike  2024-03-06 17:16:36  2024-03-06 17:19:28   \n",
       "3  4CEA3EC8906DAEA8  electric_bike  2024-03-03 22:55:54  2024-03-03 22:58:08   \n",
       "4  77266B408503C55F  electric_bike  2024-03-17 11:15:18  2024-03-17 11:31:18   \n",
       "\n",
       "  start_station_name start_station_id end_station_name end_station_id  \\\n",
       "0                NaN              NaN              NaN            NaN   \n",
       "1                NaN              NaN              NaN            NaN   \n",
       "2                NaN              NaN              NaN            NaN   \n",
       "3                NaN              NaN              NaN            NaN   \n",
       "4                NaN              NaN              NaN            NaN   \n",
       "\n",
       "   start_lat  start_lng  end_lat  end_lng member_casual               Start  \\\n",
       "0      41.94     -87.65    41.96   -87.65        member 2024-03-05 18:33:11   \n",
       "1      41.91     -87.64    41.91   -87.64        member 2024-03-06 17:15:14   \n",
       "2      41.91     -87.64    41.92   -87.64        member 2024-03-06 17:16:36   \n",
       "3      41.90     -87.63    41.89   -87.63        member 2024-03-03 22:55:54   \n",
       "4      41.93     -87.70    41.93   -87.72        member 2024-03-17 11:15:18   \n",
       "\n",
       "                  End        Duration  \n",
       "0 2024-03-05 18:51:48 0 days 00:18:37  \n",
       "1 2024-03-06 17:16:04 0 days 00:00:50  \n",
       "2 2024-03-06 17:19:28 0 days 00:02:52  \n",
       "3 2024-03-03 22:58:08 0 days 00:02:14  \n",
       "4 2024-03-17 11:31:18 0 days 00:16:00  "
      ]
     },
     "execution_count": 24,
     "metadata": {},
     "output_type": "execute_result"
    }
   ],
   "source": [
    "df.head()"
   ]
  },
  {
   "cell_type": "code",
   "execution_count": 25,
   "id": "33423081",
   "metadata": {
    "execution": {
     "iopub.execute_input": "2024-04-23T08:14:05.764344Z",
     "iopub.status.busy": "2024-04-23T08:14:05.763225Z",
     "iopub.status.idle": "2024-04-23T08:14:05.896248Z",
     "shell.execute_reply": "2024-04-23T08:14:05.895306Z"
    },
    "papermill": {
     "duration": 0.168075,
     "end_time": "2024-04-23T08:14:05.899955",
     "exception": false,
     "start_time": "2024-04-23T08:14:05.731880",
     "status": "completed"
    },
    "tags": []
   },
   "outputs": [],
   "source": [
    "df['DayOfWeek'] = df['Start'].dt.day_name()"
   ]
  },
  {
   "cell_type": "code",
   "execution_count": 26,
   "id": "f8eb0e7b",
   "metadata": {
    "execution": {
     "iopub.execute_input": "2024-04-23T08:14:05.959631Z",
     "iopub.status.busy": "2024-04-23T08:14:05.958975Z",
     "iopub.status.idle": "2024-04-23T08:14:05.978733Z",
     "shell.execute_reply": "2024-04-23T08:14:05.978021Z"
    },
    "papermill": {
     "duration": 0.051941,
     "end_time": "2024-04-23T08:14:05.980766",
     "exception": false,
     "start_time": "2024-04-23T08:14:05.928825",
     "status": "completed"
    },
    "tags": []
   },
   "outputs": [
    {
     "data": {
      "text/html": [
       "<div>\n",
       "<style scoped>\n",
       "    .dataframe tbody tr th:only-of-type {\n",
       "        vertical-align: middle;\n",
       "    }\n",
       "\n",
       "    .dataframe tbody tr th {\n",
       "        vertical-align: top;\n",
       "    }\n",
       "\n",
       "    .dataframe thead th {\n",
       "        text-align: right;\n",
       "    }\n",
       "</style>\n",
       "<table border=\"1\" class=\"dataframe\">\n",
       "  <thead>\n",
       "    <tr style=\"text-align: right;\">\n",
       "      <th></th>\n",
       "      <th>ride_id</th>\n",
       "      <th>rideable_type</th>\n",
       "      <th>started_at</th>\n",
       "      <th>ended_at</th>\n",
       "      <th>start_station_name</th>\n",
       "      <th>start_station_id</th>\n",
       "      <th>end_station_name</th>\n",
       "      <th>end_station_id</th>\n",
       "      <th>start_lat</th>\n",
       "      <th>start_lng</th>\n",
       "      <th>end_lat</th>\n",
       "      <th>end_lng</th>\n",
       "      <th>member_casual</th>\n",
       "      <th>Start</th>\n",
       "      <th>End</th>\n",
       "      <th>Duration</th>\n",
       "      <th>DayOfWeek</th>\n",
       "    </tr>\n",
       "  </thead>\n",
       "  <tbody>\n",
       "    <tr>\n",
       "      <th>0</th>\n",
       "      <td>64FBE3BAED5F29E6</td>\n",
       "      <td>electric_bike</td>\n",
       "      <td>2024-03-05 18:33:11</td>\n",
       "      <td>2024-03-05 18:51:48</td>\n",
       "      <td>NaN</td>\n",
       "      <td>NaN</td>\n",
       "      <td>NaN</td>\n",
       "      <td>NaN</td>\n",
       "      <td>41.94</td>\n",
       "      <td>-87.65</td>\n",
       "      <td>41.96</td>\n",
       "      <td>-87.65</td>\n",
       "      <td>member</td>\n",
       "      <td>2024-03-05 18:33:11</td>\n",
       "      <td>2024-03-05 18:51:48</td>\n",
       "      <td>0 days 00:18:37</td>\n",
       "      <td>Tuesday</td>\n",
       "    </tr>\n",
       "    <tr>\n",
       "      <th>1</th>\n",
       "      <td>9991629435C5E20E</td>\n",
       "      <td>electric_bike</td>\n",
       "      <td>2024-03-06 17:15:14</td>\n",
       "      <td>2024-03-06 17:16:04</td>\n",
       "      <td>NaN</td>\n",
       "      <td>NaN</td>\n",
       "      <td>NaN</td>\n",
       "      <td>NaN</td>\n",
       "      <td>41.91</td>\n",
       "      <td>-87.64</td>\n",
       "      <td>41.91</td>\n",
       "      <td>-87.64</td>\n",
       "      <td>member</td>\n",
       "      <td>2024-03-06 17:15:14</td>\n",
       "      <td>2024-03-06 17:16:04</td>\n",
       "      <td>0 days 00:00:50</td>\n",
       "      <td>Wednesday</td>\n",
       "    </tr>\n",
       "    <tr>\n",
       "      <th>2</th>\n",
       "      <td>E5C9FECD5B71BEBD</td>\n",
       "      <td>electric_bike</td>\n",
       "      <td>2024-03-06 17:16:36</td>\n",
       "      <td>2024-03-06 17:19:28</td>\n",
       "      <td>NaN</td>\n",
       "      <td>NaN</td>\n",
       "      <td>NaN</td>\n",
       "      <td>NaN</td>\n",
       "      <td>41.91</td>\n",
       "      <td>-87.64</td>\n",
       "      <td>41.92</td>\n",
       "      <td>-87.64</td>\n",
       "      <td>member</td>\n",
       "      <td>2024-03-06 17:16:36</td>\n",
       "      <td>2024-03-06 17:19:28</td>\n",
       "      <td>0 days 00:02:52</td>\n",
       "      <td>Wednesday</td>\n",
       "    </tr>\n",
       "    <tr>\n",
       "      <th>3</th>\n",
       "      <td>4CEA3EC8906DAEA8</td>\n",
       "      <td>electric_bike</td>\n",
       "      <td>2024-03-03 22:55:54</td>\n",
       "      <td>2024-03-03 22:58:08</td>\n",
       "      <td>NaN</td>\n",
       "      <td>NaN</td>\n",
       "      <td>NaN</td>\n",
       "      <td>NaN</td>\n",
       "      <td>41.90</td>\n",
       "      <td>-87.63</td>\n",
       "      <td>41.89</td>\n",
       "      <td>-87.63</td>\n",
       "      <td>member</td>\n",
       "      <td>2024-03-03 22:55:54</td>\n",
       "      <td>2024-03-03 22:58:08</td>\n",
       "      <td>0 days 00:02:14</td>\n",
       "      <td>Sunday</td>\n",
       "    </tr>\n",
       "    <tr>\n",
       "      <th>4</th>\n",
       "      <td>77266B408503C55F</td>\n",
       "      <td>electric_bike</td>\n",
       "      <td>2024-03-17 11:15:18</td>\n",
       "      <td>2024-03-17 11:31:18</td>\n",
       "      <td>NaN</td>\n",
       "      <td>NaN</td>\n",
       "      <td>NaN</td>\n",
       "      <td>NaN</td>\n",
       "      <td>41.93</td>\n",
       "      <td>-87.70</td>\n",
       "      <td>41.93</td>\n",
       "      <td>-87.72</td>\n",
       "      <td>member</td>\n",
       "      <td>2024-03-17 11:15:18</td>\n",
       "      <td>2024-03-17 11:31:18</td>\n",
       "      <td>0 days 00:16:00</td>\n",
       "      <td>Sunday</td>\n",
       "    </tr>\n",
       "  </tbody>\n",
       "</table>\n",
       "</div>"
      ],
      "text/plain": [
       "            ride_id  rideable_type           started_at             ended_at  \\\n",
       "0  64FBE3BAED5F29E6  electric_bike  2024-03-05 18:33:11  2024-03-05 18:51:48   \n",
       "1  9991629435C5E20E  electric_bike  2024-03-06 17:15:14  2024-03-06 17:16:04   \n",
       "2  E5C9FECD5B71BEBD  electric_bike  2024-03-06 17:16:36  2024-03-06 17:19:28   \n",
       "3  4CEA3EC8906DAEA8  electric_bike  2024-03-03 22:55:54  2024-03-03 22:58:08   \n",
       "4  77266B408503C55F  electric_bike  2024-03-17 11:15:18  2024-03-17 11:31:18   \n",
       "\n",
       "  start_station_name start_station_id end_station_name end_station_id  \\\n",
       "0                NaN              NaN              NaN            NaN   \n",
       "1                NaN              NaN              NaN            NaN   \n",
       "2                NaN              NaN              NaN            NaN   \n",
       "3                NaN              NaN              NaN            NaN   \n",
       "4                NaN              NaN              NaN            NaN   \n",
       "\n",
       "   start_lat  start_lng  end_lat  end_lng member_casual               Start  \\\n",
       "0      41.94     -87.65    41.96   -87.65        member 2024-03-05 18:33:11   \n",
       "1      41.91     -87.64    41.91   -87.64        member 2024-03-06 17:15:14   \n",
       "2      41.91     -87.64    41.92   -87.64        member 2024-03-06 17:16:36   \n",
       "3      41.90     -87.63    41.89   -87.63        member 2024-03-03 22:55:54   \n",
       "4      41.93     -87.70    41.93   -87.72        member 2024-03-17 11:15:18   \n",
       "\n",
       "                  End        Duration  DayOfWeek  \n",
       "0 2024-03-05 18:51:48 0 days 00:18:37    Tuesday  \n",
       "1 2024-03-06 17:16:04 0 days 00:00:50  Wednesday  \n",
       "2 2024-03-06 17:19:28 0 days 00:02:52  Wednesday  \n",
       "3 2024-03-03 22:58:08 0 days 00:02:14     Sunday  \n",
       "4 2024-03-17 11:31:18 0 days 00:16:00     Sunday  "
      ]
     },
     "execution_count": 26,
     "metadata": {},
     "output_type": "execute_result"
    }
   ],
   "source": [
    "df.head()"
   ]
  },
  {
   "cell_type": "code",
   "execution_count": 27,
   "id": "dfc69dd3",
   "metadata": {
    "execution": {
     "iopub.execute_input": "2024-04-23T08:14:06.042652Z",
     "iopub.status.busy": "2024-04-23T08:14:06.041991Z",
     "iopub.status.idle": "2024-04-23T08:14:06.061782Z",
     "shell.execute_reply": "2024-04-23T08:14:06.061059Z"
    },
    "papermill": {
     "duration": 0.053117,
     "end_time": "2024-04-23T08:14:06.063773",
     "exception": false,
     "start_time": "2024-04-23T08:14:06.010656",
     "status": "completed"
    },
    "tags": []
   },
   "outputs": [
    {
     "data": {
      "text/plain": [
       "count                       301687\n",
       "mean     0 days 00:15:31.348954379\n",
       "std      0 days 01:02:08.383971526\n",
       "min              -1 days +23:57:08\n",
       "25%                0 days 00:04:59\n",
       "50%                0 days 00:08:34\n",
       "75%                0 days 00:15:09\n",
       "max                1 days 01:59:56\n",
       "Name: Duration, dtype: object"
      ]
     },
     "execution_count": 27,
     "metadata": {},
     "output_type": "execute_result"
    }
   ],
   "source": [
    "df['Duration'].describe()"
   ]
  },
  {
   "cell_type": "markdown",
   "id": "e474ff21",
   "metadata": {
    "papermill": {
     "duration": 0.028832,
     "end_time": "2024-04-23T08:14:06.122611",
     "exception": false,
     "start_time": "2024-04-23T08:14:06.093779",
     "status": "completed"
    },
    "tags": []
   },
   "source": [
    "# Data cleaning part 2\n",
    "## Upon closer inspection of the new columns, I discovered some interesting anomalies. \n",
    "1. There are negative or zero duration rows, which doesn't make any sense. The rows are shown below. The rows are removed from the df. \n",
    "2. There are some null values in the end lat and longitude columns, roughly 300 of them. "
   ]
  },
  {
   "cell_type": "code",
   "execution_count": 28,
   "id": "fe186a4a",
   "metadata": {
    "execution": {
     "iopub.execute_input": "2024-04-23T08:14:06.183193Z",
     "iopub.status.busy": "2024-04-23T08:14:06.182395Z",
     "iopub.status.idle": "2024-04-23T08:14:06.212407Z",
     "shell.execute_reply": "2024-04-23T08:14:06.211400Z"
    },
    "papermill": {
     "duration": 0.063365,
     "end_time": "2024-04-23T08:14:06.214546",
     "exception": false,
     "start_time": "2024-04-23T08:14:06.151181",
     "status": "completed"
    },
    "tags": []
   },
   "outputs": [
    {
     "data": {
      "text/html": [
       "<div>\n",
       "<style scoped>\n",
       "    .dataframe tbody tr th:only-of-type {\n",
       "        vertical-align: middle;\n",
       "    }\n",
       "\n",
       "    .dataframe tbody tr th {\n",
       "        vertical-align: top;\n",
       "    }\n",
       "\n",
       "    .dataframe thead th {\n",
       "        text-align: right;\n",
       "    }\n",
       "</style>\n",
       "<table border=\"1\" class=\"dataframe\">\n",
       "  <thead>\n",
       "    <tr style=\"text-align: right;\">\n",
       "      <th></th>\n",
       "      <th>ride_id</th>\n",
       "      <th>rideable_type</th>\n",
       "      <th>started_at</th>\n",
       "      <th>ended_at</th>\n",
       "      <th>start_station_name</th>\n",
       "      <th>start_station_id</th>\n",
       "      <th>end_station_name</th>\n",
       "      <th>end_station_id</th>\n",
       "      <th>start_lat</th>\n",
       "      <th>start_lng</th>\n",
       "      <th>end_lat</th>\n",
       "      <th>end_lng</th>\n",
       "      <th>member_casual</th>\n",
       "      <th>Start</th>\n",
       "      <th>End</th>\n",
       "      <th>Duration</th>\n",
       "      <th>DayOfWeek</th>\n",
       "    </tr>\n",
       "  </thead>\n",
       "  <tbody>\n",
       "    <tr>\n",
       "      <th>363</th>\n",
       "      <td>7E38BE8271CC61D1</td>\n",
       "      <td>electric_bike</td>\n",
       "      <td>2024-03-13 08:02:03</td>\n",
       "      <td>2024-03-13 08:02:03</td>\n",
       "      <td>NaN</td>\n",
       "      <td>NaN</td>\n",
       "      <td>NaN</td>\n",
       "      <td>NaN</td>\n",
       "      <td>41.880000</td>\n",
       "      <td>-87.650000</td>\n",
       "      <td>41.880000</td>\n",
       "      <td>-87.650000</td>\n",
       "      <td>member</td>\n",
       "      <td>2024-03-13 08:02:03</td>\n",
       "      <td>2024-03-13 08:02:03</td>\n",
       "      <td>0 days 00:00:00</td>\n",
       "      <td>Wednesday</td>\n",
       "    </tr>\n",
       "    <tr>\n",
       "      <th>2741</th>\n",
       "      <td>C03396DD31FD583C</td>\n",
       "      <td>electric_bike</td>\n",
       "      <td>2024-03-27 10:52:54</td>\n",
       "      <td>2024-03-27 10:52:53</td>\n",
       "      <td>NaN</td>\n",
       "      <td>NaN</td>\n",
       "      <td>NaN</td>\n",
       "      <td>NaN</td>\n",
       "      <td>42.060000</td>\n",
       "      <td>-87.680000</td>\n",
       "      <td>42.060000</td>\n",
       "      <td>-87.680000</td>\n",
       "      <td>casual</td>\n",
       "      <td>2024-03-27 10:52:54</td>\n",
       "      <td>2024-03-27 10:52:53</td>\n",
       "      <td>-1 days +23:59:59</td>\n",
       "      <td>Wednesday</td>\n",
       "    </tr>\n",
       "    <tr>\n",
       "      <th>3282</th>\n",
       "      <td>111CAFE72EEF15A1</td>\n",
       "      <td>electric_bike</td>\n",
       "      <td>2024-03-14 07:09:32</td>\n",
       "      <td>2024-03-14 07:09:31</td>\n",
       "      <td>NaN</td>\n",
       "      <td>NaN</td>\n",
       "      <td>NaN</td>\n",
       "      <td>NaN</td>\n",
       "      <td>42.060000</td>\n",
       "      <td>-87.680000</td>\n",
       "      <td>42.060000</td>\n",
       "      <td>-87.680000</td>\n",
       "      <td>casual</td>\n",
       "      <td>2024-03-14 07:09:32</td>\n",
       "      <td>2024-03-14 07:09:31</td>\n",
       "      <td>-1 days +23:59:59</td>\n",
       "      <td>Thursday</td>\n",
       "    </tr>\n",
       "    <tr>\n",
       "      <th>3516</th>\n",
       "      <td>84CDEF0748B4B557</td>\n",
       "      <td>electric_bike</td>\n",
       "      <td>2024-03-13 00:56:51</td>\n",
       "      <td>2024-03-13 00:56:51</td>\n",
       "      <td>NaN</td>\n",
       "      <td>NaN</td>\n",
       "      <td>NaN</td>\n",
       "      <td>NaN</td>\n",
       "      <td>42.060000</td>\n",
       "      <td>-87.680000</td>\n",
       "      <td>42.060000</td>\n",
       "      <td>-87.680000</td>\n",
       "      <td>casual</td>\n",
       "      <td>2024-03-13 00:56:51</td>\n",
       "      <td>2024-03-13 00:56:51</td>\n",
       "      <td>0 days 00:00:00</td>\n",
       "      <td>Wednesday</td>\n",
       "    </tr>\n",
       "    <tr>\n",
       "      <th>3517</th>\n",
       "      <td>9C40368D2E4309EE</td>\n",
       "      <td>electric_bike</td>\n",
       "      <td>2024-03-13 00:57:56</td>\n",
       "      <td>2024-03-13 00:57:56</td>\n",
       "      <td>NaN</td>\n",
       "      <td>NaN</td>\n",
       "      <td>NaN</td>\n",
       "      <td>NaN</td>\n",
       "      <td>42.060000</td>\n",
       "      <td>-87.680000</td>\n",
       "      <td>42.060000</td>\n",
       "      <td>-87.680000</td>\n",
       "      <td>casual</td>\n",
       "      <td>2024-03-13 00:57:56</td>\n",
       "      <td>2024-03-13 00:57:56</td>\n",
       "      <td>0 days 00:00:00</td>\n",
       "      <td>Wednesday</td>\n",
       "    </tr>\n",
       "    <tr>\n",
       "      <th>...</th>\n",
       "      <td>...</td>\n",
       "      <td>...</td>\n",
       "      <td>...</td>\n",
       "      <td>...</td>\n",
       "      <td>...</td>\n",
       "      <td>...</td>\n",
       "      <td>...</td>\n",
       "      <td>...</td>\n",
       "      <td>...</td>\n",
       "      <td>...</td>\n",
       "      <td>...</td>\n",
       "      <td>...</td>\n",
       "      <td>...</td>\n",
       "      <td>...</td>\n",
       "      <td>...</td>\n",
       "      <td>...</td>\n",
       "      <td>...</td>\n",
       "    </tr>\n",
       "    <tr>\n",
       "      <th>269549</th>\n",
       "      <td>9D8E2453ED8B8A76</td>\n",
       "      <td>electric_bike</td>\n",
       "      <td>2024-03-10 18:55:28</td>\n",
       "      <td>2024-03-10 18:55:28</td>\n",
       "      <td>Michigan Ave &amp; Madison St</td>\n",
       "      <td>13036</td>\n",
       "      <td>Michigan Ave &amp; Madison St</td>\n",
       "      <td>13036</td>\n",
       "      <td>41.881943</td>\n",
       "      <td>-87.625245</td>\n",
       "      <td>41.882134</td>\n",
       "      <td>-87.625125</td>\n",
       "      <td>member</td>\n",
       "      <td>2024-03-10 18:55:28</td>\n",
       "      <td>2024-03-10 18:55:28</td>\n",
       "      <td>0 days 00:00:00</td>\n",
       "      <td>Sunday</td>\n",
       "    </tr>\n",
       "    <tr>\n",
       "      <th>283888</th>\n",
       "      <td>DCC40BEA8D34AA8C</td>\n",
       "      <td>electric_bike</td>\n",
       "      <td>2024-03-13 14:47:04</td>\n",
       "      <td>2024-03-13 14:47:04</td>\n",
       "      <td>Racine Ave &amp; Congress Pkwy</td>\n",
       "      <td>TA1306000025</td>\n",
       "      <td>Racine Ave &amp; Congress Pkwy</td>\n",
       "      <td>TA1306000025</td>\n",
       "      <td>41.874587</td>\n",
       "      <td>-87.657006</td>\n",
       "      <td>41.874640</td>\n",
       "      <td>-87.657030</td>\n",
       "      <td>member</td>\n",
       "      <td>2024-03-13 14:47:04</td>\n",
       "      <td>2024-03-13 14:47:04</td>\n",
       "      <td>0 days 00:00:00</td>\n",
       "      <td>Wednesday</td>\n",
       "    </tr>\n",
       "    <tr>\n",
       "      <th>288166</th>\n",
       "      <td>C03B0FA7CFB2205D</td>\n",
       "      <td>classic_bike</td>\n",
       "      <td>2024-03-04 14:53:37</td>\n",
       "      <td>2024-03-04 14:53:37</td>\n",
       "      <td>Western Ave &amp; Winnebago Ave</td>\n",
       "      <td>13068</td>\n",
       "      <td>Western Ave &amp; Winnebago Ave</td>\n",
       "      <td>13068</td>\n",
       "      <td>41.915520</td>\n",
       "      <td>-87.687022</td>\n",
       "      <td>41.915520</td>\n",
       "      <td>-87.687022</td>\n",
       "      <td>casual</td>\n",
       "      <td>2024-03-04 14:53:37</td>\n",
       "      <td>2024-03-04 14:53:37</td>\n",
       "      <td>0 days 00:00:00</td>\n",
       "      <td>Monday</td>\n",
       "    </tr>\n",
       "    <tr>\n",
       "      <th>292897</th>\n",
       "      <td>7126A69843F755B7</td>\n",
       "      <td>classic_bike</td>\n",
       "      <td>2024-03-22 09:35:00</td>\n",
       "      <td>2024-03-22 09:35:00</td>\n",
       "      <td>Wells St &amp; Elm St</td>\n",
       "      <td>KA1504000135</td>\n",
       "      <td>Wells St &amp; Elm St</td>\n",
       "      <td>KA1504000135</td>\n",
       "      <td>41.903222</td>\n",
       "      <td>-87.634324</td>\n",
       "      <td>41.903222</td>\n",
       "      <td>-87.634324</td>\n",
       "      <td>casual</td>\n",
       "      <td>2024-03-22 09:35:00</td>\n",
       "      <td>2024-03-22 09:35:00</td>\n",
       "      <td>0 days 00:00:00</td>\n",
       "      <td>Friday</td>\n",
       "    </tr>\n",
       "    <tr>\n",
       "      <th>293085</th>\n",
       "      <td>AD82559F20A6F7AA</td>\n",
       "      <td>electric_bike</td>\n",
       "      <td>2024-03-03 00:51:19</td>\n",
       "      <td>2024-03-03 00:51:19</td>\n",
       "      <td>Throop St &amp; Taylor St</td>\n",
       "      <td>13139</td>\n",
       "      <td>Throop St &amp; Taylor St</td>\n",
       "      <td>13139</td>\n",
       "      <td>41.868850</td>\n",
       "      <td>-87.659054</td>\n",
       "      <td>41.868968</td>\n",
       "      <td>-87.659141</td>\n",
       "      <td>casual</td>\n",
       "      <td>2024-03-03 00:51:19</td>\n",
       "      <td>2024-03-03 00:51:19</td>\n",
       "      <td>0 days 00:00:00</td>\n",
       "      <td>Sunday</td>\n",
       "    </tr>\n",
       "  </tbody>\n",
       "</table>\n",
       "<p>106 rows × 17 columns</p>\n",
       "</div>"
      ],
      "text/plain": [
       "                 ride_id  rideable_type           started_at  \\\n",
       "363     7E38BE8271CC61D1  electric_bike  2024-03-13 08:02:03   \n",
       "2741    C03396DD31FD583C  electric_bike  2024-03-27 10:52:54   \n",
       "3282    111CAFE72EEF15A1  electric_bike  2024-03-14 07:09:32   \n",
       "3516    84CDEF0748B4B557  electric_bike  2024-03-13 00:56:51   \n",
       "3517    9C40368D2E4309EE  electric_bike  2024-03-13 00:57:56   \n",
       "...                  ...            ...                  ...   \n",
       "269549  9D8E2453ED8B8A76  electric_bike  2024-03-10 18:55:28   \n",
       "283888  DCC40BEA8D34AA8C  electric_bike  2024-03-13 14:47:04   \n",
       "288166  C03B0FA7CFB2205D   classic_bike  2024-03-04 14:53:37   \n",
       "292897  7126A69843F755B7   classic_bike  2024-03-22 09:35:00   \n",
       "293085  AD82559F20A6F7AA  electric_bike  2024-03-03 00:51:19   \n",
       "\n",
       "                   ended_at           start_station_name start_station_id  \\\n",
       "363     2024-03-13 08:02:03                          NaN              NaN   \n",
       "2741    2024-03-27 10:52:53                          NaN              NaN   \n",
       "3282    2024-03-14 07:09:31                          NaN              NaN   \n",
       "3516    2024-03-13 00:56:51                          NaN              NaN   \n",
       "3517    2024-03-13 00:57:56                          NaN              NaN   \n",
       "...                     ...                          ...              ...   \n",
       "269549  2024-03-10 18:55:28    Michigan Ave & Madison St            13036   \n",
       "283888  2024-03-13 14:47:04   Racine Ave & Congress Pkwy     TA1306000025   \n",
       "288166  2024-03-04 14:53:37  Western Ave & Winnebago Ave            13068   \n",
       "292897  2024-03-22 09:35:00            Wells St & Elm St     KA1504000135   \n",
       "293085  2024-03-03 00:51:19        Throop St & Taylor St            13139   \n",
       "\n",
       "                   end_station_name end_station_id  start_lat  start_lng  \\\n",
       "363                             NaN            NaN  41.880000 -87.650000   \n",
       "2741                            NaN            NaN  42.060000 -87.680000   \n",
       "3282                            NaN            NaN  42.060000 -87.680000   \n",
       "3516                            NaN            NaN  42.060000 -87.680000   \n",
       "3517                            NaN            NaN  42.060000 -87.680000   \n",
       "...                             ...            ...        ...        ...   \n",
       "269549    Michigan Ave & Madison St          13036  41.881943 -87.625245   \n",
       "283888   Racine Ave & Congress Pkwy   TA1306000025  41.874587 -87.657006   \n",
       "288166  Western Ave & Winnebago Ave          13068  41.915520 -87.687022   \n",
       "292897            Wells St & Elm St   KA1504000135  41.903222 -87.634324   \n",
       "293085        Throop St & Taylor St          13139  41.868850 -87.659054   \n",
       "\n",
       "          end_lat    end_lng member_casual               Start  \\\n",
       "363     41.880000 -87.650000        member 2024-03-13 08:02:03   \n",
       "2741    42.060000 -87.680000        casual 2024-03-27 10:52:54   \n",
       "3282    42.060000 -87.680000        casual 2024-03-14 07:09:32   \n",
       "3516    42.060000 -87.680000        casual 2024-03-13 00:56:51   \n",
       "3517    42.060000 -87.680000        casual 2024-03-13 00:57:56   \n",
       "...           ...        ...           ...                 ...   \n",
       "269549  41.882134 -87.625125        member 2024-03-10 18:55:28   \n",
       "283888  41.874640 -87.657030        member 2024-03-13 14:47:04   \n",
       "288166  41.915520 -87.687022        casual 2024-03-04 14:53:37   \n",
       "292897  41.903222 -87.634324        casual 2024-03-22 09:35:00   \n",
       "293085  41.868968 -87.659141        casual 2024-03-03 00:51:19   \n",
       "\n",
       "                       End          Duration  DayOfWeek  \n",
       "363    2024-03-13 08:02:03   0 days 00:00:00  Wednesday  \n",
       "2741   2024-03-27 10:52:53 -1 days +23:59:59  Wednesday  \n",
       "3282   2024-03-14 07:09:31 -1 days +23:59:59   Thursday  \n",
       "3516   2024-03-13 00:56:51   0 days 00:00:00  Wednesday  \n",
       "3517   2024-03-13 00:57:56   0 days 00:00:00  Wednesday  \n",
       "...                    ...               ...        ...  \n",
       "269549 2024-03-10 18:55:28   0 days 00:00:00     Sunday  \n",
       "283888 2024-03-13 14:47:04   0 days 00:00:00  Wednesday  \n",
       "288166 2024-03-04 14:53:37   0 days 00:00:00     Monday  \n",
       "292897 2024-03-22 09:35:00   0 days 00:00:00     Friday  \n",
       "293085 2024-03-03 00:51:19   0 days 00:00:00     Sunday  \n",
       "\n",
       "[106 rows x 17 columns]"
      ]
     },
     "execution_count": 28,
     "metadata": {},
     "output_type": "execute_result"
    }
   ],
   "source": [
    "df[df['Duration'] <= pd.Timedelta(0)]"
   ]
  },
  {
   "cell_type": "markdown",
   "id": "c7422bc2",
   "metadata": {
    "papermill": {
     "duration": 0.031495,
     "end_time": "2024-04-23T08:14:06.276988",
     "exception": false,
     "start_time": "2024-04-23T08:14:06.245493",
     "status": "completed"
    },
    "tags": []
   },
   "source": [
    "To further remove anomalies, I filter out rides that are less than 30 seconds long. \n",
    "Logically speaking, any ride less than 30 seconds are most likely faulty or a misclick. \n",
    "The number of rows dropped from 301,000 to 297,000, so approximately 4000 or 1% were anomalies. "
   ]
  },
  {
   "cell_type": "code",
   "execution_count": 29,
   "id": "f022046a",
   "metadata": {
    "execution": {
     "iopub.execute_input": "2024-04-23T08:14:06.339945Z",
     "iopub.status.busy": "2024-04-23T08:14:06.339551Z",
     "iopub.status.idle": "2024-04-23T08:14:06.409157Z",
     "shell.execute_reply": "2024-04-23T08:14:06.408031Z"
    },
    "papermill": {
     "duration": 0.103312,
     "end_time": "2024-04-23T08:14:06.411546",
     "exception": false,
     "start_time": "2024-04-23T08:14:06.308234",
     "status": "completed"
    },
    "tags": []
   },
   "outputs": [
    {
     "data": {
      "text/plain": [
       "count                       297262\n",
       "mean     0 days 00:15:45.013718537\n",
       "std      0 days 01:02:34.336417260\n",
       "min                0 days 00:00:31\n",
       "25%                0 days 00:05:07\n",
       "50%                0 days 00:08:41\n",
       "75%                0 days 00:15:18\n",
       "max                1 days 01:59:56\n",
       "Name: Duration, dtype: object"
      ]
     },
     "execution_count": 29,
     "metadata": {},
     "output_type": "execute_result"
    }
   ],
   "source": [
    "df = df[df['Duration'] > pd.Timedelta(seconds=30)]\n",
    "df['Duration'].describe()"
   ]
  },
  {
   "cell_type": "code",
   "execution_count": null,
   "id": "a02378ae",
   "metadata": {
    "papermill": {
     "duration": 0.029339,
     "end_time": "2024-04-23T08:14:06.471787",
     "exception": false,
     "start_time": "2024-04-23T08:14:06.442448",
     "status": "completed"
    },
    "tags": []
   },
   "outputs": [],
   "source": []
  },
  {
   "cell_type": "markdown",
   "id": "154e90ef",
   "metadata": {
    "papermill": {
     "duration": 0.030287,
     "end_time": "2024-04-23T08:14:06.532995",
     "exception": false,
     "start_time": "2024-04-23T08:14:06.502708",
     "status": "completed"
    },
    "tags": []
   },
   "source": [
    "# Creating a data cleaning and augmenting pipeline"
   ]
  },
  {
   "cell_type": "code",
   "execution_count": 30,
   "id": "c1f1ca55",
   "metadata": {
    "execution": {
     "iopub.execute_input": "2024-04-23T08:14:06.595077Z",
     "iopub.status.busy": "2024-04-23T08:14:06.594691Z",
     "iopub.status.idle": "2024-04-23T08:14:06.601355Z",
     "shell.execute_reply": "2024-04-23T08:14:06.600399Z"
    },
    "papermill": {
     "duration": 0.040184,
     "end_time": "2024-04-23T08:14:06.603474",
     "exception": false,
     "start_time": "2024-04-23T08:14:06.563290",
     "status": "completed"
    },
    "tags": []
   },
   "outputs": [],
   "source": [
    "def clean_cycdata(df):\n",
    "    # Convert columns to datetime\n",
    "    df['Start'] = pd.to_datetime(df['started_at'])\n",
    "    df['End'] = pd.to_datetime(df['ended_at'])\n",
    "    # Calculate the difference\n",
    "    df['Duration'] = df['End'] - df['Start']\n",
    "    # Add Day of Week column\n",
    "    df['DayOfWeek'] = df['Start'].dt.day_name()\n",
    "    # Remove duration anomalies\n",
    "    df = df[df['Duration'] > pd.Timedelta(seconds=30)]\n",
    "    return df"
   ]
  },
  {
   "cell_type": "code",
   "execution_count": 31,
   "id": "1f97b0ed",
   "metadata": {
    "execution": {
     "iopub.execute_input": "2024-04-23T08:14:06.667568Z",
     "iopub.status.busy": "2024-04-23T08:14:06.667119Z",
     "iopub.status.idle": "2024-04-23T08:14:07.176024Z",
     "shell.execute_reply": "2024-04-23T08:14:07.174919Z"
    },
    "papermill": {
     "duration": 0.543892,
     "end_time": "2024-04-23T08:14:07.178621",
     "exception": false,
     "start_time": "2024-04-23T08:14:06.634729",
     "status": "completed"
    },
    "tags": []
   },
   "outputs": [],
   "source": [
    "clean_df = clean_cycdata(df)"
   ]
  },
  {
   "cell_type": "code",
   "execution_count": 32,
   "id": "f739ac72",
   "metadata": {
    "execution": {
     "iopub.execute_input": "2024-04-23T08:14:07.241011Z",
     "iopub.status.busy": "2024-04-23T08:14:07.240597Z",
     "iopub.status.idle": "2024-04-23T08:14:07.544118Z",
     "shell.execute_reply": "2024-04-23T08:14:07.542796Z"
    },
    "papermill": {
     "duration": 0.337246,
     "end_time": "2024-04-23T08:14:07.546584",
     "exception": false,
     "start_time": "2024-04-23T08:14:07.209338",
     "status": "completed"
    },
    "tags": []
   },
   "outputs": [
    {
     "name": "stdout",
     "output_type": "stream",
     "text": [
      "<class 'pandas.core.frame.DataFrame'>\n",
      "Index: 297262 entries, 0 to 301686\n",
      "Data columns (total 17 columns):\n",
      " #   Column              Non-Null Count   Dtype          \n",
      "---  ------              --------------   -----          \n",
      " 0   ride_id             297262 non-null  object         \n",
      " 1   rideable_type       297262 non-null  object         \n",
      " 2   started_at          297262 non-null  object         \n",
      " 3   ended_at            297262 non-null  object         \n",
      " 4   start_station_name  254318 non-null  object         \n",
      " 5   start_station_id    254318 non-null  object         \n",
      " 6   end_station_name    252165 non-null  object         \n",
      " 7   end_station_id      252165 non-null  object         \n",
      " 8   start_lat           297262 non-null  float64        \n",
      " 9   start_lng           297262 non-null  float64        \n",
      " 10  end_lat             296866 non-null  float64        \n",
      " 11  end_lng             296866 non-null  float64        \n",
      " 12  member_casual       297262 non-null  object         \n",
      " 13  Start               297262 non-null  datetime64[ns] \n",
      " 14  End                 297262 non-null  datetime64[ns] \n",
      " 15  Duration            297262 non-null  timedelta64[ns]\n",
      " 16  DayOfWeek           297262 non-null  object         \n",
      "dtypes: datetime64[ns](2), float64(4), object(10), timedelta64[ns](1)\n",
      "memory usage: 40.8+ MB\n"
     ]
    }
   ],
   "source": [
    "clean_df.info()"
   ]
  },
  {
   "cell_type": "code",
   "execution_count": 33,
   "id": "ed540d02",
   "metadata": {
    "execution": {
     "iopub.execute_input": "2024-04-23T08:14:07.611518Z",
     "iopub.status.busy": "2024-04-23T08:14:07.611111Z",
     "iopub.status.idle": "2024-04-23T08:14:07.717888Z",
     "shell.execute_reply": "2024-04-23T08:14:07.716868Z"
    },
    "papermill": {
     "duration": 0.141658,
     "end_time": "2024-04-23T08:14:07.720405",
     "exception": false,
     "start_time": "2024-04-23T08:14:07.578747",
     "status": "completed"
    },
    "tags": []
   },
   "outputs": [
    {
     "data": {
      "text/html": [
       "<div>\n",
       "<style scoped>\n",
       "    .dataframe tbody tr th:only-of-type {\n",
       "        vertical-align: middle;\n",
       "    }\n",
       "\n",
       "    .dataframe tbody tr th {\n",
       "        vertical-align: top;\n",
       "    }\n",
       "\n",
       "    .dataframe thead th {\n",
       "        text-align: right;\n",
       "    }\n",
       "</style>\n",
       "<table border=\"1\" class=\"dataframe\">\n",
       "  <thead>\n",
       "    <tr style=\"text-align: right;\">\n",
       "      <th></th>\n",
       "      <th>start_lat</th>\n",
       "      <th>start_lng</th>\n",
       "      <th>end_lat</th>\n",
       "      <th>end_lng</th>\n",
       "      <th>Start</th>\n",
       "      <th>End</th>\n",
       "      <th>Duration</th>\n",
       "    </tr>\n",
       "  </thead>\n",
       "  <tbody>\n",
       "    <tr>\n",
       "      <th>count</th>\n",
       "      <td>297262.000000</td>\n",
       "      <td>297262.000000</td>\n",
       "      <td>296866.000000</td>\n",
       "      <td>296866.000000</td>\n",
       "      <td>297262</td>\n",
       "      <td>297262</td>\n",
       "      <td>297262</td>\n",
       "    </tr>\n",
       "    <tr>\n",
       "      <th>mean</th>\n",
       "      <td>41.900194</td>\n",
       "      <td>-87.646705</td>\n",
       "      <td>41.900603</td>\n",
       "      <td>-87.646906</td>\n",
       "      <td>2024-03-16 01:24:14.154298112</td>\n",
       "      <td>2024-03-16 01:39:59.168015872</td>\n",
       "      <td>0 days 00:15:45.013718537</td>\n",
       "    </tr>\n",
       "    <tr>\n",
       "      <th>min</th>\n",
       "      <td>41.648501</td>\n",
       "      <td>-87.841110</td>\n",
       "      <td>41.630000</td>\n",
       "      <td>-87.870000</td>\n",
       "      <td>2024-03-01 00:00:43</td>\n",
       "      <td>2024-03-01 00:03:33</td>\n",
       "      <td>0 days 00:00:31</td>\n",
       "    </tr>\n",
       "    <tr>\n",
       "      <th>25%</th>\n",
       "      <td>41.880000</td>\n",
       "      <td>-87.660000</td>\n",
       "      <td>41.880000</td>\n",
       "      <td>-87.660274</td>\n",
       "      <td>2024-03-07 20:34:55</td>\n",
       "      <td>2024-03-07 20:49:23.249999872</td>\n",
       "      <td>0 days 00:05:07</td>\n",
       "    </tr>\n",
       "    <tr>\n",
       "      <th>50%</th>\n",
       "      <td>41.895634</td>\n",
       "      <td>-87.643320</td>\n",
       "      <td>41.895769</td>\n",
       "      <td>-87.643353</td>\n",
       "      <td>2024-03-15 15:43:53</td>\n",
       "      <td>2024-03-15 16:00:24</td>\n",
       "      <td>0 days 00:08:41</td>\n",
       "    </tr>\n",
       "    <tr>\n",
       "      <th>75%</th>\n",
       "      <td>41.928773</td>\n",
       "      <td>-87.629912</td>\n",
       "      <td>41.929143</td>\n",
       "      <td>-87.629912</td>\n",
       "      <td>2024-03-23 20:26:02</td>\n",
       "      <td>2024-03-23 20:40:52.500000</td>\n",
       "      <td>0 days 00:15:18</td>\n",
       "    </tr>\n",
       "    <tr>\n",
       "      <th>max</th>\n",
       "      <td>42.070000</td>\n",
       "      <td>-87.528232</td>\n",
       "      <td>42.080000</td>\n",
       "      <td>-87.528232</td>\n",
       "      <td>2024-03-31 23:59:11</td>\n",
       "      <td>2024-04-01 02:35:26</td>\n",
       "      <td>1 days 01:59:56</td>\n",
       "    </tr>\n",
       "    <tr>\n",
       "      <th>std</th>\n",
       "      <td>0.045645</td>\n",
       "      <td>0.027135</td>\n",
       "      <td>0.045780</td>\n",
       "      <td>0.027300</td>\n",
       "      <td>NaN</td>\n",
       "      <td>NaN</td>\n",
       "      <td>0 days 01:02:34.336417260</td>\n",
       "    </tr>\n",
       "  </tbody>\n",
       "</table>\n",
       "</div>"
      ],
      "text/plain": [
       "           start_lat      start_lng        end_lat        end_lng  \\\n",
       "count  297262.000000  297262.000000  296866.000000  296866.000000   \n",
       "mean       41.900194     -87.646705      41.900603     -87.646906   \n",
       "min        41.648501     -87.841110      41.630000     -87.870000   \n",
       "25%        41.880000     -87.660000      41.880000     -87.660274   \n",
       "50%        41.895634     -87.643320      41.895769     -87.643353   \n",
       "75%        41.928773     -87.629912      41.929143     -87.629912   \n",
       "max        42.070000     -87.528232      42.080000     -87.528232   \n",
       "std         0.045645       0.027135       0.045780       0.027300   \n",
       "\n",
       "                               Start                            End  \\\n",
       "count                         297262                         297262   \n",
       "mean   2024-03-16 01:24:14.154298112  2024-03-16 01:39:59.168015872   \n",
       "min              2024-03-01 00:00:43            2024-03-01 00:03:33   \n",
       "25%              2024-03-07 20:34:55  2024-03-07 20:49:23.249999872   \n",
       "50%              2024-03-15 15:43:53            2024-03-15 16:00:24   \n",
       "75%              2024-03-23 20:26:02     2024-03-23 20:40:52.500000   \n",
       "max              2024-03-31 23:59:11            2024-04-01 02:35:26   \n",
       "std                              NaN                            NaN   \n",
       "\n",
       "                        Duration  \n",
       "count                     297262  \n",
       "mean   0 days 00:15:45.013718537  \n",
       "min              0 days 00:00:31  \n",
       "25%              0 days 00:05:07  \n",
       "50%              0 days 00:08:41  \n",
       "75%              0 days 00:15:18  \n",
       "max              1 days 01:59:56  \n",
       "std    0 days 01:02:34.336417260  "
      ]
     },
     "execution_count": 33,
     "metadata": {},
     "output_type": "execute_result"
    }
   ],
   "source": [
    "clean_df.describe()"
   ]
  },
  {
   "cell_type": "markdown",
   "id": "08080f80",
   "metadata": {
    "papermill": {
     "duration": 0.031282,
     "end_time": "2024-04-23T08:14:07.783092",
     "exception": false,
     "start_time": "2024-04-23T08:14:07.751810",
     "status": "completed"
    },
    "tags": []
   },
   "source": [
    "# Export this clean data to a visualisation tool like Tableau"
   ]
  },
  {
   "cell_type": "code",
   "execution_count": 34,
   "id": "ae5d83d2",
   "metadata": {
    "execution": {
     "iopub.execute_input": "2024-04-23T08:14:07.847753Z",
     "iopub.status.busy": "2024-04-23T08:14:07.846481Z",
     "iopub.status.idle": "2024-04-23T08:14:07.851239Z",
     "shell.execute_reply": "2024-04-23T08:14:07.850184Z"
    },
    "papermill": {
     "duration": 0.039055,
     "end_time": "2024-04-23T08:14:07.853403",
     "exception": false,
     "start_time": "2024-04-23T08:14:07.814348",
     "status": "completed"
    },
    "tags": []
   },
   "outputs": [],
   "source": [
    "#clean_df.to_csv('clean_2024-03')"
   ]
  },
  {
   "cell_type": "markdown",
   "id": "d65c3ca0",
   "metadata": {
    "papermill": {
     "duration": 0.031331,
     "end_time": "2024-04-23T08:14:07.928561",
     "exception": false,
     "start_time": "2024-04-23T08:14:07.897230",
     "status": "completed"
    },
    "tags": []
   },
   "source": [
    "### Realise that this data cannot be used in tableau"
   ]
  },
  {
   "cell_type": "markdown",
   "id": "be533cde",
   "metadata": {
    "papermill": {
     "duration": 0.042567,
     "end_time": "2024-04-23T08:14:08.001832",
     "exception": false,
     "start_time": "2024-04-23T08:14:07.959265",
     "status": "completed"
    },
    "tags": []
   },
   "source": [
    "# Data Exploration part 2 \n",
    "### Looked at the most common days people ride\n",
    "Most people run on the saturday, followed by Tuesday, Monday and Wednesday. "
   ]
  },
  {
   "cell_type": "code",
   "execution_count": 35,
   "id": "4e3719b3",
   "metadata": {
    "execution": {
     "iopub.execute_input": "2024-04-23T08:14:08.068309Z",
     "iopub.status.busy": "2024-04-23T08:14:08.067578Z",
     "iopub.status.idle": "2024-04-23T08:14:08.138097Z",
     "shell.execute_reply": "2024-04-23T08:14:08.136911Z"
    },
    "papermill": {
     "duration": 0.106913,
     "end_time": "2024-04-23T08:14:08.140499",
     "exception": false,
     "start_time": "2024-04-23T08:14:08.033586",
     "status": "completed"
    },
    "tags": []
   },
   "outputs": [
    {
     "data": {
      "text/plain": [
       "DayOfWeek\n",
       "Saturday     51805\n",
       "Tuesday      43959\n",
       "Monday       42582\n",
       "Wednesday    42080\n",
       "Sunday       40456\n",
       "Thursday     38656\n",
       "Friday       37724\n",
       "Name: count, dtype: int64"
      ]
     },
     "execution_count": 35,
     "metadata": {},
     "output_type": "execute_result"
    }
   ],
   "source": [
    "clean_df['DayOfWeek'].value_counts().head(7)"
   ]
  },
  {
   "cell_type": "markdown",
   "id": "08587203",
   "metadata": {
    "papermill": {
     "duration": 0.030417,
     "end_time": "2024-04-23T08:14:08.201364",
     "exception": false,
     "start_time": "2024-04-23T08:14:08.170947",
     "status": "completed"
    },
    "tags": []
   },
   "source": [
    "# Data Exploration Part 3\n",
    "### Creating Pivot tables to find patterns"
   ]
  },
  {
   "cell_type": "code",
   "execution_count": 36,
   "id": "6c2e7868",
   "metadata": {
    "execution": {
     "iopub.execute_input": "2024-04-23T08:14:08.269479Z",
     "iopub.status.busy": "2024-04-23T08:14:08.268563Z",
     "iopub.status.idle": "2024-04-23T08:14:08.326937Z",
     "shell.execute_reply": "2024-04-23T08:14:08.325875Z"
    },
    "papermill": {
     "duration": 0.095971,
     "end_time": "2024-04-23T08:14:08.329962",
     "exception": false,
     "start_time": "2024-04-23T08:14:08.233991",
     "status": "completed"
    },
    "tags": []
   },
   "outputs": [
    {
     "data": {
      "text/html": [
       "<div>\n",
       "<style scoped>\n",
       "    .dataframe tbody tr th:only-of-type {\n",
       "        vertical-align: middle;\n",
       "    }\n",
       "\n",
       "    .dataframe tbody tr th {\n",
       "        vertical-align: top;\n",
       "    }\n",
       "\n",
       "    .dataframe thead th {\n",
       "        text-align: right;\n",
       "    }\n",
       "</style>\n",
       "<table border=\"1\" class=\"dataframe\">\n",
       "  <thead>\n",
       "    <tr style=\"text-align: right;\">\n",
       "      <th></th>\n",
       "      <th>Duration</th>\n",
       "    </tr>\n",
       "    <tr>\n",
       "      <th>member_casual</th>\n",
       "      <th></th>\n",
       "    </tr>\n",
       "  </thead>\n",
       "  <tbody>\n",
       "    <tr>\n",
       "      <th>casual</th>\n",
       "      <td>0 days 00:25:21.142213578</td>\n",
       "    </tr>\n",
       "    <tr>\n",
       "      <th>member</th>\n",
       "      <td>0 days 00:12:08.332777824</td>\n",
       "    </tr>\n",
       "  </tbody>\n",
       "</table>\n",
       "</div>"
      ],
      "text/plain": [
       "                               Duration\n",
       "member_casual                          \n",
       "casual        0 days 00:25:21.142213578\n",
       "member        0 days 00:12:08.332777824"
      ]
     },
     "execution_count": 36,
     "metadata": {},
     "output_type": "execute_result"
    }
   ],
   "source": [
    "clean_df.pivot_table(index=['member_casual'],\n",
    "                    values=['Duration'],\n",
    "                    aggfunc='mean')"
   ]
  },
  {
   "cell_type": "markdown",
   "id": "fa8947ab",
   "metadata": {
    "papermill": {
     "duration": 0.031874,
     "end_time": "2024-04-23T08:14:08.402955",
     "exception": false,
     "start_time": "2024-04-23T08:14:08.371081",
     "status": "completed"
    },
    "tags": []
   },
   "source": [
    "Casual members ride much longer durations than members"
   ]
  },
  {
   "cell_type": "code",
   "execution_count": 37,
   "id": "9081a9da",
   "metadata": {
    "execution": {
     "iopub.execute_input": "2024-04-23T08:14:08.469024Z",
     "iopub.status.busy": "2024-04-23T08:14:08.468689Z",
     "iopub.status.idle": "2024-04-23T08:14:08.524701Z",
     "shell.execute_reply": "2024-04-23T08:14:08.523596Z"
    },
    "papermill": {
     "duration": 0.091632,
     "end_time": "2024-04-23T08:14:08.527014",
     "exception": false,
     "start_time": "2024-04-23T08:14:08.435382",
     "status": "completed"
    },
    "tags": []
   },
   "outputs": [
    {
     "data": {
      "text/html": [
       "<div>\n",
       "<style scoped>\n",
       "    .dataframe tbody tr th:only-of-type {\n",
       "        vertical-align: middle;\n",
       "    }\n",
       "\n",
       "    .dataframe tbody tr th {\n",
       "        vertical-align: top;\n",
       "    }\n",
       "\n",
       "    .dataframe thead th {\n",
       "        text-align: right;\n",
       "    }\n",
       "</style>\n",
       "<table border=\"1\" class=\"dataframe\">\n",
       "  <thead>\n",
       "    <tr style=\"text-align: right;\">\n",
       "      <th></th>\n",
       "      <th>Duration</th>\n",
       "    </tr>\n",
       "    <tr>\n",
       "      <th>DayOfWeek</th>\n",
       "      <th></th>\n",
       "    </tr>\n",
       "  </thead>\n",
       "  <tbody>\n",
       "    <tr>\n",
       "      <th>Wednesday</th>\n",
       "      <td>0 days 00:12:58.899524714</td>\n",
       "    </tr>\n",
       "    <tr>\n",
       "      <th>Thursday</th>\n",
       "      <td>0 days 00:13:22.445674668</td>\n",
       "    </tr>\n",
       "    <tr>\n",
       "      <th>Friday</th>\n",
       "      <td>0 days 00:14:15.920528045</td>\n",
       "    </tr>\n",
       "    <tr>\n",
       "      <th>Tuesday</th>\n",
       "      <td>0 days 00:14:39.886758115</td>\n",
       "    </tr>\n",
       "    <tr>\n",
       "      <th>Monday</th>\n",
       "      <td>0 days 00:15:01.423770607</td>\n",
       "    </tr>\n",
       "    <tr>\n",
       "      <th>Saturday</th>\n",
       "      <td>0 days 00:19:20.740526976</td>\n",
       "    </tr>\n",
       "    <tr>\n",
       "      <th>Sunday</th>\n",
       "      <td>0 days 00:19:37.500444927</td>\n",
       "    </tr>\n",
       "  </tbody>\n",
       "</table>\n",
       "</div>"
      ],
      "text/plain": [
       "                           Duration\n",
       "DayOfWeek                          \n",
       "Wednesday 0 days 00:12:58.899524714\n",
       "Thursday  0 days 00:13:22.445674668\n",
       "Friday    0 days 00:14:15.920528045\n",
       "Tuesday   0 days 00:14:39.886758115\n",
       "Monday    0 days 00:15:01.423770607\n",
       "Saturday  0 days 00:19:20.740526976\n",
       "Sunday    0 days 00:19:37.500444927"
      ]
     },
     "execution_count": 37,
     "metadata": {},
     "output_type": "execute_result"
    }
   ],
   "source": [
    "clean_df.pivot_table(index=['DayOfWeek'],\n",
    "                    values=['Duration'],\n",
    "                    aggfunc='mean').sort_values('Duration')"
   ]
  },
  {
   "cell_type": "markdown",
   "id": "3ab42b59",
   "metadata": {
    "papermill": {
     "duration": 0.032059,
     "end_time": "2024-04-23T08:14:08.591436",
     "exception": false,
     "start_time": "2024-04-23T08:14:08.559377",
     "status": "completed"
    },
    "tags": []
   },
   "source": [
    "People have the shortest rides on Wednesday and the longest on the weekends. Weekend rides are considerably longer by 4 minutes on average. "
   ]
  },
  {
   "cell_type": "code",
   "execution_count": 38,
   "id": "2542416a",
   "metadata": {
    "execution": {
     "iopub.execute_input": "2024-04-23T08:14:08.658295Z",
     "iopub.status.busy": "2024-04-23T08:14:08.657921Z",
     "iopub.status.idle": "2024-04-23T08:14:08.745518Z",
     "shell.execute_reply": "2024-04-23T08:14:08.744266Z"
    },
    "papermill": {
     "duration": 0.123824,
     "end_time": "2024-04-23T08:14:08.748094",
     "exception": false,
     "start_time": "2024-04-23T08:14:08.624270",
     "status": "completed"
    },
    "tags": []
   },
   "outputs": [
    {
     "data": {
      "text/html": [
       "<div>\n",
       "<style scoped>\n",
       "    .dataframe tbody tr th:only-of-type {\n",
       "        vertical-align: middle;\n",
       "    }\n",
       "\n",
       "    .dataframe tbody tr th {\n",
       "        vertical-align: top;\n",
       "    }\n",
       "\n",
       "    .dataframe thead th {\n",
       "        text-align: right;\n",
       "    }\n",
       "</style>\n",
       "<table border=\"1\" class=\"dataframe\">\n",
       "  <thead>\n",
       "    <tr style=\"text-align: right;\">\n",
       "      <th></th>\n",
       "      <th>ride_id</th>\n",
       "    </tr>\n",
       "    <tr>\n",
       "      <th>DayOfWeek</th>\n",
       "      <th></th>\n",
       "    </tr>\n",
       "  </thead>\n",
       "  <tbody>\n",
       "    <tr>\n",
       "      <th>Friday</th>\n",
       "      <td>37724</td>\n",
       "    </tr>\n",
       "    <tr>\n",
       "      <th>Thursday</th>\n",
       "      <td>38656</td>\n",
       "    </tr>\n",
       "    <tr>\n",
       "      <th>Sunday</th>\n",
       "      <td>40456</td>\n",
       "    </tr>\n",
       "    <tr>\n",
       "      <th>Wednesday</th>\n",
       "      <td>42080</td>\n",
       "    </tr>\n",
       "    <tr>\n",
       "      <th>Monday</th>\n",
       "      <td>42582</td>\n",
       "    </tr>\n",
       "    <tr>\n",
       "      <th>Tuesday</th>\n",
       "      <td>43959</td>\n",
       "    </tr>\n",
       "    <tr>\n",
       "      <th>Saturday</th>\n",
       "      <td>51805</td>\n",
       "    </tr>\n",
       "  </tbody>\n",
       "</table>\n",
       "</div>"
      ],
      "text/plain": [
       "           ride_id\n",
       "DayOfWeek         \n",
       "Friday       37724\n",
       "Thursday     38656\n",
       "Sunday       40456\n",
       "Wednesday    42080\n",
       "Monday       42582\n",
       "Tuesday      43959\n",
       "Saturday     51805"
      ]
     },
     "execution_count": 38,
     "metadata": {},
     "output_type": "execute_result"
    }
   ],
   "source": [
    "clean_df.pivot_table(index=['DayOfWeek'],\n",
    "                    values=['ride_id'],\n",
    "                    aggfunc='count').sort_values('ride_id')"
   ]
  },
  {
   "cell_type": "markdown",
   "id": "d0338da9",
   "metadata": {
    "papermill": {
     "duration": 0.031408,
     "end_time": "2024-04-23T08:14:08.811755",
     "exception": false,
     "start_time": "2024-04-23T08:14:08.780347",
     "status": "completed"
    },
    "tags": []
   },
   "source": [
    "Same result as the value_count function used above. "
   ]
  },
  {
   "cell_type": "markdown",
   "id": "59158519",
   "metadata": {
    "papermill": {
     "duration": 0.031536,
     "end_time": "2024-04-23T08:14:08.874991",
     "exception": false,
     "start_time": "2024-04-23T08:14:08.843455",
     "status": "completed"
    },
    "tags": []
   },
   "source": [
    "# Exploring the dataset at a different month\n",
    "### Check if there are any seasonal differences \n",
    "Starting with Feb then Jan, comparing it with March above"
   ]
  },
  {
   "cell_type": "code",
   "execution_count": 39,
   "id": "5219fd2b",
   "metadata": {
    "execution": {
     "iopub.execute_input": "2024-04-23T08:14:08.942237Z",
     "iopub.status.busy": "2024-04-23T08:14:08.941245Z",
     "iopub.status.idle": "2024-04-23T08:14:10.193807Z",
     "shell.execute_reply": "2024-04-23T08:14:10.192475Z"
    },
    "papermill": {
     "duration": 1.288893,
     "end_time": "2024-04-23T08:14:10.196543",
     "exception": false,
     "start_time": "2024-04-23T08:14:08.907650",
     "status": "completed"
    },
    "tags": []
   },
   "outputs": [
    {
     "name": "stdout",
     "output_type": "stream",
     "text": [
      "<class 'pandas.core.frame.DataFrame'>\n",
      "RangeIndex: 223164 entries, 0 to 223163\n",
      "Data columns (total 13 columns):\n",
      " #   Column              Non-Null Count   Dtype  \n",
      "---  ------              --------------   -----  \n",
      " 0   ride_id             223164 non-null  object \n",
      " 1   rideable_type       223164 non-null  object \n",
      " 2   started_at          223164 non-null  object \n",
      " 3   ended_at            223164 non-null  object \n",
      " 4   start_station_name  199746 non-null  object \n",
      " 5   start_station_id    199746 non-null  object \n",
      " 6   end_station_name    198013 non-null  object \n",
      " 7   end_station_id      198013 non-null  object \n",
      " 8   start_lat           223164 non-null  float64\n",
      " 9   start_lng           223164 non-null  float64\n",
      " 10  end_lat             222846 non-null  float64\n",
      " 11  end_lng             222846 non-null  float64\n",
      " 12  member_casual       223164 non-null  object \n",
      "dtypes: float64(4), object(9)\n",
      "memory usage: 22.1+ MB\n"
     ]
    }
   ],
   "source": [
    "df = pd.read_csv('/kaggle/input/cyclists/202402-divvy-tripdata/202402-divvy-tripdata.csv')\n",
    "df.info()"
   ]
  },
  {
   "cell_type": "code",
   "execution_count": 40,
   "id": "ec14d91c",
   "metadata": {
    "execution": {
     "iopub.execute_input": "2024-04-23T08:14:10.262582Z",
     "iopub.status.busy": "2024-04-23T08:14:10.262083Z",
     "iopub.status.idle": "2024-04-23T08:14:10.826449Z",
     "shell.execute_reply": "2024-04-23T08:14:10.824468Z"
    },
    "papermill": {
     "duration": 0.599807,
     "end_time": "2024-04-23T08:14:10.828886",
     "exception": false,
     "start_time": "2024-04-23T08:14:10.229079",
     "status": "completed"
    },
    "tags": []
   },
   "outputs": [
    {
     "name": "stdout",
     "output_type": "stream",
     "text": [
      "<class 'pandas.core.frame.DataFrame'>\n",
      "Index: 220636 entries, 0 to 223163\n",
      "Data columns (total 17 columns):\n",
      " #   Column              Non-Null Count   Dtype          \n",
      "---  ------              --------------   -----          \n",
      " 0   ride_id             220636 non-null  object         \n",
      " 1   rideable_type       220636 non-null  object         \n",
      " 2   started_at          220636 non-null  object         \n",
      " 3   ended_at            220636 non-null  object         \n",
      " 4   start_station_name  197865 non-null  object         \n",
      " 5   start_station_id    197865 non-null  object         \n",
      " 6   end_station_name    196410 non-null  object         \n",
      " 7   end_station_id      196410 non-null  object         \n",
      " 8   start_lat           220636 non-null  float64        \n",
      " 9   start_lng           220636 non-null  float64        \n",
      " 10  end_lat             220318 non-null  float64        \n",
      " 11  end_lng             220318 non-null  float64        \n",
      " 12  member_casual       220636 non-null  object         \n",
      " 13  Start               220636 non-null  datetime64[ns] \n",
      " 14  End                 220636 non-null  datetime64[ns] \n",
      " 15  Duration            220636 non-null  timedelta64[ns]\n",
      " 16  DayOfWeek           220636 non-null  object         \n",
      "dtypes: datetime64[ns](2), float64(4), object(10), timedelta64[ns](1)\n",
      "memory usage: 30.3+ MB\n"
     ]
    }
   ],
   "source": [
    "clean_df = clean_cycdata(df)\n",
    "clean_df.info()"
   ]
  },
  {
   "cell_type": "code",
   "execution_count": 41,
   "id": "4022d0a7",
   "metadata": {
    "execution": {
     "iopub.execute_input": "2024-04-23T08:14:10.896403Z",
     "iopub.status.busy": "2024-04-23T08:14:10.895826Z",
     "iopub.status.idle": "2024-04-23T08:14:10.984725Z",
     "shell.execute_reply": "2024-04-23T08:14:10.983689Z"
    },
    "papermill": {
     "duration": 0.12535,
     "end_time": "2024-04-23T08:14:10.986931",
     "exception": false,
     "start_time": "2024-04-23T08:14:10.861581",
     "status": "completed"
    },
    "tags": []
   },
   "outputs": [
    {
     "data": {
      "text/html": [
       "<div>\n",
       "<style scoped>\n",
       "    .dataframe tbody tr th:only-of-type {\n",
       "        vertical-align: middle;\n",
       "    }\n",
       "\n",
       "    .dataframe tbody tr th {\n",
       "        vertical-align: top;\n",
       "    }\n",
       "\n",
       "    .dataframe thead th {\n",
       "        text-align: right;\n",
       "    }\n",
       "</style>\n",
       "<table border=\"1\" class=\"dataframe\">\n",
       "  <thead>\n",
       "    <tr style=\"text-align: right;\">\n",
       "      <th></th>\n",
       "      <th>start_lat</th>\n",
       "      <th>start_lng</th>\n",
       "      <th>end_lat</th>\n",
       "      <th>end_lng</th>\n",
       "      <th>Start</th>\n",
       "      <th>End</th>\n",
       "      <th>Duration</th>\n",
       "    </tr>\n",
       "  </thead>\n",
       "  <tbody>\n",
       "    <tr>\n",
       "      <th>count</th>\n",
       "      <td>220636.000000</td>\n",
       "      <td>220636.000000</td>\n",
       "      <td>220318.000000</td>\n",
       "      <td>220318.000000</td>\n",
       "      <td>220636</td>\n",
       "      <td>220636</td>\n",
       "      <td>220636</td>\n",
       "    </tr>\n",
       "    <tr>\n",
       "      <th>mean</th>\n",
       "      <td>41.899132</td>\n",
       "      <td>-87.647208</td>\n",
       "      <td>41.899373</td>\n",
       "      <td>-87.647267</td>\n",
       "      <td>2024-02-16 09:21:24.589192448</td>\n",
       "      <td>2024-02-16 09:37:05.586060288</td>\n",
       "      <td>0 days 00:15:40.996868144</td>\n",
       "    </tr>\n",
       "    <tr>\n",
       "      <th>min</th>\n",
       "      <td>41.648501</td>\n",
       "      <td>-87.844110</td>\n",
       "      <td>41.648501</td>\n",
       "      <td>-87.870000</td>\n",
       "      <td>2024-02-01 00:01:50</td>\n",
       "      <td>2024-02-01 00:08:07</td>\n",
       "      <td>0 days 00:00:31</td>\n",
       "    </tr>\n",
       "    <tr>\n",
       "      <th>25%</th>\n",
       "      <td>41.879319</td>\n",
       "      <td>-87.661364</td>\n",
       "      <td>41.879356</td>\n",
       "      <td>-87.661364</td>\n",
       "      <td>2024-02-08 18:23:12.500000</td>\n",
       "      <td>2024-02-08 18:39:29.249999872</td>\n",
       "      <td>0 days 00:05:01</td>\n",
       "    </tr>\n",
       "    <tr>\n",
       "      <th>50%</th>\n",
       "      <td>41.894731</td>\n",
       "      <td>-87.644131</td>\n",
       "      <td>41.895501</td>\n",
       "      <td>-87.644140</td>\n",
       "      <td>2024-02-16 12:56:07</td>\n",
       "      <td>2024-02-16 13:08:36</td>\n",
       "      <td>0 days 00:08:21</td>\n",
       "    </tr>\n",
       "    <tr>\n",
       "      <th>75%</th>\n",
       "      <td>41.928887</td>\n",
       "      <td>-87.630000</td>\n",
       "      <td>41.929143</td>\n",
       "      <td>-87.630000</td>\n",
       "      <td>2024-02-23 14:22:12.500000</td>\n",
       "      <td>2024-02-23 14:36:42.750000128</td>\n",
       "      <td>0 days 00:14:18</td>\n",
       "    </tr>\n",
       "    <tr>\n",
       "      <th>max</th>\n",
       "      <td>42.070000</td>\n",
       "      <td>-87.528232</td>\n",
       "      <td>42.080000</td>\n",
       "      <td>-87.530000</td>\n",
       "      <td>2024-02-29 23:59:15</td>\n",
       "      <td>2024-03-01 23:51:12</td>\n",
       "      <td>1 days 01:00:29</td>\n",
       "    </tr>\n",
       "    <tr>\n",
       "      <th>std</th>\n",
       "      <td>0.047934</td>\n",
       "      <td>0.027522</td>\n",
       "      <td>0.048042</td>\n",
       "      <td>0.027534</td>\n",
       "      <td>NaN</td>\n",
       "      <td>NaN</td>\n",
       "      <td>0 days 01:09:08.596784361</td>\n",
       "    </tr>\n",
       "  </tbody>\n",
       "</table>\n",
       "</div>"
      ],
      "text/plain": [
       "           start_lat      start_lng        end_lat        end_lng  \\\n",
       "count  220636.000000  220636.000000  220318.000000  220318.000000   \n",
       "mean       41.899132     -87.647208      41.899373     -87.647267   \n",
       "min        41.648501     -87.844110      41.648501     -87.870000   \n",
       "25%        41.879319     -87.661364      41.879356     -87.661364   \n",
       "50%        41.894731     -87.644131      41.895501     -87.644140   \n",
       "75%        41.928887     -87.630000      41.929143     -87.630000   \n",
       "max        42.070000     -87.528232      42.080000     -87.530000   \n",
       "std         0.047934       0.027522       0.048042       0.027534   \n",
       "\n",
       "                               Start                            End  \\\n",
       "count                         220636                         220636   \n",
       "mean   2024-02-16 09:21:24.589192448  2024-02-16 09:37:05.586060288   \n",
       "min              2024-02-01 00:01:50            2024-02-01 00:08:07   \n",
       "25%       2024-02-08 18:23:12.500000  2024-02-08 18:39:29.249999872   \n",
       "50%              2024-02-16 12:56:07            2024-02-16 13:08:36   \n",
       "75%       2024-02-23 14:22:12.500000  2024-02-23 14:36:42.750000128   \n",
       "max              2024-02-29 23:59:15            2024-03-01 23:51:12   \n",
       "std                              NaN                            NaN   \n",
       "\n",
       "                        Duration  \n",
       "count                     220636  \n",
       "mean   0 days 00:15:40.996868144  \n",
       "min              0 days 00:00:31  \n",
       "25%              0 days 00:05:01  \n",
       "50%              0 days 00:08:21  \n",
       "75%              0 days 00:14:18  \n",
       "max              1 days 01:00:29  \n",
       "std    0 days 01:09:08.596784361  "
      ]
     },
     "execution_count": 41,
     "metadata": {},
     "output_type": "execute_result"
    }
   ],
   "source": [
    "clean_df.describe()"
   ]
  },
  {
   "cell_type": "markdown",
   "id": "c817ab5f",
   "metadata": {
    "papermill": {
     "duration": 0.034422,
     "end_time": "2024-04-23T08:14:11.055162",
     "exception": false,
     "start_time": "2024-04-23T08:14:11.020740",
     "status": "completed"
    },
    "tags": []
   },
   "source": [
    "Mean value of duration in Feb is quite similar to March"
   ]
  },
  {
   "cell_type": "code",
   "execution_count": 42,
   "id": "52bdddea",
   "metadata": {
    "execution": {
     "iopub.execute_input": "2024-04-23T08:14:11.121611Z",
     "iopub.status.busy": "2024-04-23T08:14:11.121233Z",
     "iopub.status.idle": "2024-04-23T08:14:11.171967Z",
     "shell.execute_reply": "2024-04-23T08:14:11.170848Z"
    },
    "papermill": {
     "duration": 0.086601,
     "end_time": "2024-04-23T08:14:11.174048",
     "exception": false,
     "start_time": "2024-04-23T08:14:11.087447",
     "status": "completed"
    },
    "tags": []
   },
   "outputs": [
    {
     "data": {
      "text/plain": [
       "DayOfWeek\n",
       "Thursday     43340\n",
       "Tuesday      38428\n",
       "Wednesday    35075\n",
       "Monday       31781\n",
       "Friday       28956\n",
       "Sunday       23854\n",
       "Saturday     19202\n",
       "Name: count, dtype: int64"
      ]
     },
     "execution_count": 42,
     "metadata": {},
     "output_type": "execute_result"
    }
   ],
   "source": [
    "clean_df['DayOfWeek'].value_counts().head(7)"
   ]
  },
  {
   "cell_type": "markdown",
   "id": "d3d84a5e",
   "metadata": {
    "papermill": {
     "duration": 0.034114,
     "end_time": "2024-04-23T08:14:11.241055",
     "exception": false,
     "start_time": "2024-04-23T08:14:11.206941",
     "status": "completed"
    },
    "tags": []
   },
   "source": [
    "The popular day of the week is completely different from that in March. \n",
    "In March: Saturday was most popular, followed by Tuesday "
   ]
  },
  {
   "cell_type": "code",
   "execution_count": 43,
   "id": "6dec9a31",
   "metadata": {
    "execution": {
     "iopub.execute_input": "2024-04-23T08:14:11.309053Z",
     "iopub.status.busy": "2024-04-23T08:14:11.308701Z",
     "iopub.status.idle": "2024-04-23T08:14:11.344889Z",
     "shell.execute_reply": "2024-04-23T08:14:11.343887Z"
    },
    "papermill": {
     "duration": 0.07171,
     "end_time": "2024-04-23T08:14:11.347007",
     "exception": false,
     "start_time": "2024-04-23T08:14:11.275297",
     "status": "completed"
    },
    "tags": []
   },
   "outputs": [
    {
     "data": {
      "text/html": [
       "<div>\n",
       "<style scoped>\n",
       "    .dataframe tbody tr th:only-of-type {\n",
       "        vertical-align: middle;\n",
       "    }\n",
       "\n",
       "    .dataframe tbody tr th {\n",
       "        vertical-align: top;\n",
       "    }\n",
       "\n",
       "    .dataframe thead th {\n",
       "        text-align: right;\n",
       "    }\n",
       "</style>\n",
       "<table border=\"1\" class=\"dataframe\">\n",
       "  <thead>\n",
       "    <tr style=\"text-align: right;\">\n",
       "      <th></th>\n",
       "      <th>Duration</th>\n",
       "    </tr>\n",
       "    <tr>\n",
       "      <th>member_casual</th>\n",
       "      <th></th>\n",
       "    </tr>\n",
       "  </thead>\n",
       "  <tbody>\n",
       "    <tr>\n",
       "      <th>casual</th>\n",
       "      <td>0 days 00:25:30.493182159</td>\n",
       "    </tr>\n",
       "    <tr>\n",
       "      <th>member</th>\n",
       "      <td>0 days 00:13:03.286022048</td>\n",
       "    </tr>\n",
       "  </tbody>\n",
       "</table>\n",
       "</div>"
      ],
      "text/plain": [
       "                               Duration\n",
       "member_casual                          \n",
       "casual        0 days 00:25:30.493182159\n",
       "member        0 days 00:13:03.286022048"
      ]
     },
     "execution_count": 43,
     "metadata": {},
     "output_type": "execute_result"
    }
   ],
   "source": [
    "clean_df.pivot_table(index=['member_casual'],\n",
    "                    values=['Duration'],\n",
    "                    aggfunc='mean')"
   ]
  },
  {
   "cell_type": "markdown",
   "id": "746a5948",
   "metadata": {
    "papermill": {
     "duration": 0.031829,
     "end_time": "2024-04-23T08:14:11.410757",
     "exception": false,
     "start_time": "2024-04-23T08:14:11.378928",
     "status": "completed"
    },
    "tags": []
   },
   "source": [
    "Similar result to the month of March"
   ]
  },
  {
   "cell_type": "code",
   "execution_count": 44,
   "id": "30050fe0",
   "metadata": {
    "execution": {
     "iopub.execute_input": "2024-04-23T08:14:11.477077Z",
     "iopub.status.busy": "2024-04-23T08:14:11.476683Z",
     "iopub.status.idle": "2024-04-23T08:14:11.521868Z",
     "shell.execute_reply": "2024-04-23T08:14:11.520862Z"
    },
    "papermill": {
     "duration": 0.081256,
     "end_time": "2024-04-23T08:14:11.524038",
     "exception": false,
     "start_time": "2024-04-23T08:14:11.442782",
     "status": "completed"
    },
    "tags": []
   },
   "outputs": [
    {
     "data": {
      "text/html": [
       "<div>\n",
       "<style scoped>\n",
       "    .dataframe tbody tr th:only-of-type {\n",
       "        vertical-align: middle;\n",
       "    }\n",
       "\n",
       "    .dataframe tbody tr th {\n",
       "        vertical-align: top;\n",
       "    }\n",
       "\n",
       "    .dataframe thead th {\n",
       "        text-align: right;\n",
       "    }\n",
       "</style>\n",
       "<table border=\"1\" class=\"dataframe\">\n",
       "  <thead>\n",
       "    <tr style=\"text-align: right;\">\n",
       "      <th></th>\n",
       "      <th>Duration</th>\n",
       "    </tr>\n",
       "    <tr>\n",
       "      <th>DayOfWeek</th>\n",
       "      <th></th>\n",
       "    </tr>\n",
       "  </thead>\n",
       "  <tbody>\n",
       "    <tr>\n",
       "      <th>Thursday</th>\n",
       "      <td>0 days 00:14:04.863520996</td>\n",
       "    </tr>\n",
       "    <tr>\n",
       "      <th>Wednesday</th>\n",
       "      <td>0 days 00:14:07.990135424</td>\n",
       "    </tr>\n",
       "    <tr>\n",
       "      <th>Monday</th>\n",
       "      <td>0 days 00:15:07.973317390</td>\n",
       "    </tr>\n",
       "    <tr>\n",
       "      <th>Friday</th>\n",
       "      <td>0 days 00:15:28.319553805</td>\n",
       "    </tr>\n",
       "    <tr>\n",
       "      <th>Tuesday</th>\n",
       "      <td>0 days 00:15:32.666206932</td>\n",
       "    </tr>\n",
       "    <tr>\n",
       "      <th>Saturday</th>\n",
       "      <td>0 days 00:18:47.492865326</td>\n",
       "    </tr>\n",
       "    <tr>\n",
       "      <th>Sunday</th>\n",
       "      <td>0 days 00:19:35.098935189</td>\n",
       "    </tr>\n",
       "  </tbody>\n",
       "</table>\n",
       "</div>"
      ],
      "text/plain": [
       "                           Duration\n",
       "DayOfWeek                          \n",
       "Thursday  0 days 00:14:04.863520996\n",
       "Wednesday 0 days 00:14:07.990135424\n",
       "Monday    0 days 00:15:07.973317390\n",
       "Friday    0 days 00:15:28.319553805\n",
       "Tuesday   0 days 00:15:32.666206932\n",
       "Saturday  0 days 00:18:47.492865326\n",
       "Sunday    0 days 00:19:35.098935189"
      ]
     },
     "execution_count": 44,
     "metadata": {},
     "output_type": "execute_result"
    }
   ],
   "source": [
    "clean_df.pivot_table(index=['DayOfWeek'],\n",
    "                    values=['Duration'],\n",
    "                    aggfunc='mean').sort_values('Duration')"
   ]
  },
  {
   "cell_type": "markdown",
   "id": "2d2ab395",
   "metadata": {
    "papermill": {
     "duration": 0.03318,
     "end_time": "2024-04-23T08:14:11.591154",
     "exception": false,
     "start_time": "2024-04-23T08:14:11.557974",
     "status": "completed"
    },
    "tags": []
   },
   "source": [
    "Similar to March, Weekends are the most popular"
   ]
  },
  {
   "cell_type": "code",
   "execution_count": 45,
   "id": "dcd8f768",
   "metadata": {
    "execution": {
     "iopub.execute_input": "2024-04-23T08:14:11.658438Z",
     "iopub.status.busy": "2024-04-23T08:14:11.658090Z",
     "iopub.status.idle": "2024-04-23T08:14:12.422364Z",
     "shell.execute_reply": "2024-04-23T08:14:12.421387Z"
    },
    "papermill": {
     "duration": 0.801278,
     "end_time": "2024-04-23T08:14:12.424990",
     "exception": false,
     "start_time": "2024-04-23T08:14:11.623712",
     "status": "completed"
    },
    "tags": []
   },
   "outputs": [
    {
     "name": "stdout",
     "output_type": "stream",
     "text": [
      "<class 'pandas.core.frame.DataFrame'>\n",
      "RangeIndex: 144873 entries, 0 to 144872\n",
      "Data columns (total 13 columns):\n",
      " #   Column              Non-Null Count   Dtype  \n",
      "---  ------              --------------   -----  \n",
      " 0   ride_id             144873 non-null  object \n",
      " 1   rideable_type       144873 non-null  object \n",
      " 2   started_at          144873 non-null  object \n",
      " 3   ended_at            144873 non-null  object \n",
      " 4   start_station_name  125708 non-null  object \n",
      " 5   start_station_id    125708 non-null  object \n",
      " 6   end_station_name    124124 non-null  object \n",
      " 7   end_station_id      124124 non-null  object \n",
      " 8   start_lat           144873 non-null  float64\n",
      " 9   start_lng           144873 non-null  float64\n",
      " 10  end_lat             144585 non-null  float64\n",
      " 11  end_lng             144585 non-null  float64\n",
      " 12  member_casual       144873 non-null  object \n",
      "dtypes: float64(4), object(9)\n",
      "memory usage: 14.4+ MB\n"
     ]
    }
   ],
   "source": [
    "df = pd.read_csv('/kaggle/input/cyclists/202401-divvy-tripdata/202401-divvy-tripdata.csv')\n",
    "df.info()"
   ]
  },
  {
   "cell_type": "code",
   "execution_count": 46,
   "id": "8e89ee75",
   "metadata": {
    "execution": {
     "iopub.execute_input": "2024-04-23T08:14:12.494631Z",
     "iopub.status.busy": "2024-04-23T08:14:12.494213Z",
     "iopub.status.idle": "2024-04-23T08:14:12.875942Z",
     "shell.execute_reply": "2024-04-23T08:14:12.874963Z"
    },
    "papermill": {
     "duration": 0.419315,
     "end_time": "2024-04-23T08:14:12.878349",
     "exception": false,
     "start_time": "2024-04-23T08:14:12.459034",
     "status": "completed"
    },
    "tags": []
   },
   "outputs": [
    {
     "name": "stdout",
     "output_type": "stream",
     "text": [
      "<class 'pandas.core.frame.DataFrame'>\n",
      "Index: 142209 entries, 0 to 144872\n",
      "Data columns (total 17 columns):\n",
      " #   Column              Non-Null Count   Dtype          \n",
      "---  ------              --------------   -----          \n",
      " 0   ride_id             142209 non-null  object         \n",
      " 1   rideable_type       142209 non-null  object         \n",
      " 2   started_at          142209 non-null  object         \n",
      " 3   ended_at            142209 non-null  object         \n",
      " 4   start_station_name  123815 non-null  object         \n",
      " 5   start_station_id    123815 non-null  object         \n",
      " 6   end_station_name    122465 non-null  object         \n",
      " 7   end_station_id      122465 non-null  object         \n",
      " 8   start_lat           142209 non-null  float64        \n",
      " 9   start_lng           142209 non-null  float64        \n",
      " 10  end_lat             141921 non-null  float64        \n",
      " 11  end_lng             141921 non-null  float64        \n",
      " 12  member_casual       142209 non-null  object         \n",
      " 13  Start               142209 non-null  datetime64[ns] \n",
      " 14  End                 142209 non-null  datetime64[ns] \n",
      " 15  Duration            142209 non-null  timedelta64[ns]\n",
      " 16  DayOfWeek           142209 non-null  object         \n",
      "dtypes: datetime64[ns](2), float64(4), object(10), timedelta64[ns](1)\n",
      "memory usage: 19.5+ MB\n"
     ]
    }
   ],
   "source": [
    "clean_df = clean_cycdata(df)\n",
    "clean_df.info()"
   ]
  },
  {
   "cell_type": "code",
   "execution_count": 47,
   "id": "95f96b9d",
   "metadata": {
    "execution": {
     "iopub.execute_input": "2024-04-23T08:14:12.947745Z",
     "iopub.status.busy": "2024-04-23T08:14:12.947090Z",
     "iopub.status.idle": "2024-04-23T08:14:13.016727Z",
     "shell.execute_reply": "2024-04-23T08:14:13.015728Z"
    },
    "papermill": {
     "duration": 0.107725,
     "end_time": "2024-04-23T08:14:13.019217",
     "exception": false,
     "start_time": "2024-04-23T08:14:12.911492",
     "status": "completed"
    },
    "tags": []
   },
   "outputs": [
    {
     "data": {
      "text/html": [
       "<div>\n",
       "<style scoped>\n",
       "    .dataframe tbody tr th:only-of-type {\n",
       "        vertical-align: middle;\n",
       "    }\n",
       "\n",
       "    .dataframe tbody tr th {\n",
       "        vertical-align: top;\n",
       "    }\n",
       "\n",
       "    .dataframe thead th {\n",
       "        text-align: right;\n",
       "    }\n",
       "</style>\n",
       "<table border=\"1\" class=\"dataframe\">\n",
       "  <thead>\n",
       "    <tr style=\"text-align: right;\">\n",
       "      <th></th>\n",
       "      <th>start_lat</th>\n",
       "      <th>start_lng</th>\n",
       "      <th>end_lat</th>\n",
       "      <th>end_lng</th>\n",
       "      <th>Start</th>\n",
       "      <th>End</th>\n",
       "      <th>Duration</th>\n",
       "    </tr>\n",
       "  </thead>\n",
       "  <tbody>\n",
       "    <tr>\n",
       "      <th>count</th>\n",
       "      <td>142209.000000</td>\n",
       "      <td>142209.000000</td>\n",
       "      <td>141921.000000</td>\n",
       "      <td>141921.000000</td>\n",
       "      <td>142209</td>\n",
       "      <td>142209</td>\n",
       "      <td>142209</td>\n",
       "    </tr>\n",
       "    <tr>\n",
       "      <th>mean</th>\n",
       "      <td>41.897564</td>\n",
       "      <td>-87.646661</td>\n",
       "      <td>41.897730</td>\n",
       "      <td>-87.646742</td>\n",
       "      <td>2024-01-16 07:23:21.259090432</td>\n",
       "      <td>2024-01-16 07:38:41.563135744</td>\n",
       "      <td>0 days 00:15:20.304045454</td>\n",
       "    </tr>\n",
       "    <tr>\n",
       "      <th>min</th>\n",
       "      <td>41.648588</td>\n",
       "      <td>-87.844084</td>\n",
       "      <td>41.630000</td>\n",
       "      <td>-87.860000</td>\n",
       "      <td>2024-01-01 00:00:39</td>\n",
       "      <td>2024-01-01 00:04:20</td>\n",
       "      <td>0 days 00:00:31</td>\n",
       "    </tr>\n",
       "    <tr>\n",
       "      <th>25%</th>\n",
       "      <td>41.879255</td>\n",
       "      <td>-87.660285</td>\n",
       "      <td>41.879255</td>\n",
       "      <td>-87.660285</td>\n",
       "      <td>2024-01-06 18:42:51</td>\n",
       "      <td>2024-01-06 18:56:54</td>\n",
       "      <td>0 days 00:04:34</td>\n",
       "    </tr>\n",
       "    <tr>\n",
       "      <th>50%</th>\n",
       "      <td>41.894345</td>\n",
       "      <td>-87.643391</td>\n",
       "      <td>41.894345</td>\n",
       "      <td>-87.643353</td>\n",
       "      <td>2024-01-13 16:07:04</td>\n",
       "      <td>2024-01-13 16:15:36</td>\n",
       "      <td>0 days 00:07:21</td>\n",
       "    </tr>\n",
       "    <tr>\n",
       "      <th>75%</th>\n",
       "      <td>41.925858</td>\n",
       "      <td>-87.630000</td>\n",
       "      <td>41.926277</td>\n",
       "      <td>-87.630000</td>\n",
       "      <td>2024-01-25 23:39:25</td>\n",
       "      <td>2024-01-26 00:00:52</td>\n",
       "      <td>0 days 00:12:08</td>\n",
       "    </tr>\n",
       "    <tr>\n",
       "      <th>max</th>\n",
       "      <td>42.070000</td>\n",
       "      <td>-87.528431</td>\n",
       "      <td>42.070000</td>\n",
       "      <td>-87.460000</td>\n",
       "      <td>2024-01-31 23:59:40</td>\n",
       "      <td>2024-02-02 00:01:21</td>\n",
       "      <td>1 days 00:59:57</td>\n",
       "    </tr>\n",
       "    <tr>\n",
       "      <th>std</th>\n",
       "      <td>0.048805</td>\n",
       "      <td>0.027470</td>\n",
       "      <td>0.048860</td>\n",
       "      <td>0.027485</td>\n",
       "      <td>NaN</td>\n",
       "      <td>NaN</td>\n",
       "      <td>0 days 01:21:21.284939451</td>\n",
       "    </tr>\n",
       "  </tbody>\n",
       "</table>\n",
       "</div>"
      ],
      "text/plain": [
       "           start_lat      start_lng        end_lat        end_lng  \\\n",
       "count  142209.000000  142209.000000  141921.000000  141921.000000   \n",
       "mean       41.897564     -87.646661      41.897730     -87.646742   \n",
       "min        41.648588     -87.844084      41.630000     -87.860000   \n",
       "25%        41.879255     -87.660285      41.879255     -87.660285   \n",
       "50%        41.894345     -87.643391      41.894345     -87.643353   \n",
       "75%        41.925858     -87.630000      41.926277     -87.630000   \n",
       "max        42.070000     -87.528431      42.070000     -87.460000   \n",
       "std         0.048805       0.027470       0.048860       0.027485   \n",
       "\n",
       "                               Start                            End  \\\n",
       "count                         142209                         142209   \n",
       "mean   2024-01-16 07:23:21.259090432  2024-01-16 07:38:41.563135744   \n",
       "min              2024-01-01 00:00:39            2024-01-01 00:04:20   \n",
       "25%              2024-01-06 18:42:51            2024-01-06 18:56:54   \n",
       "50%              2024-01-13 16:07:04            2024-01-13 16:15:36   \n",
       "75%              2024-01-25 23:39:25            2024-01-26 00:00:52   \n",
       "max              2024-01-31 23:59:40            2024-02-02 00:01:21   \n",
       "std                              NaN                            NaN   \n",
       "\n",
       "                        Duration  \n",
       "count                     142209  \n",
       "mean   0 days 00:15:20.304045454  \n",
       "min              0 days 00:00:31  \n",
       "25%              0 days 00:04:34  \n",
       "50%              0 days 00:07:21  \n",
       "75%              0 days 00:12:08  \n",
       "max              1 days 00:59:57  \n",
       "std    0 days 01:21:21.284939451  "
      ]
     },
     "execution_count": 47,
     "metadata": {},
     "output_type": "execute_result"
    }
   ],
   "source": [
    "clean_df.describe()"
   ]
  },
  {
   "cell_type": "code",
   "execution_count": 48,
   "id": "2a53e657",
   "metadata": {
    "execution": {
     "iopub.execute_input": "2024-04-23T08:14:13.088669Z",
     "iopub.status.busy": "2024-04-23T08:14:13.088290Z",
     "iopub.status.idle": "2024-04-23T08:14:13.124325Z",
     "shell.execute_reply": "2024-04-23T08:14:13.123437Z"
    },
    "papermill": {
     "duration": 0.072742,
     "end_time": "2024-04-23T08:14:13.126342",
     "exception": false,
     "start_time": "2024-04-23T08:14:13.053600",
     "status": "completed"
    },
    "tags": []
   },
   "outputs": [
    {
     "data": {
      "text/plain": [
       "DayOfWeek\n",
       "Wednesday    30511\n",
       "Thursday     26570\n",
       "Monday       23448\n",
       "Tuesday      22008\n",
       "Friday       16560\n",
       "Saturday     11937\n",
       "Sunday       11175\n",
       "Name: count, dtype: int64"
      ]
     },
     "execution_count": 48,
     "metadata": {},
     "output_type": "execute_result"
    }
   ],
   "source": [
    "clean_df['DayOfWeek'].value_counts().head(7)"
   ]
  },
  {
   "cell_type": "code",
   "execution_count": 49,
   "id": "51ea80ae",
   "metadata": {
    "execution": {
     "iopub.execute_input": "2024-04-23T08:14:13.195381Z",
     "iopub.status.busy": "2024-04-23T08:14:13.195032Z",
     "iopub.status.idle": "2024-04-23T08:14:13.296350Z",
     "shell.execute_reply": "2024-04-23T08:14:13.295302Z"
    },
    "papermill": {
     "duration": 0.138873,
     "end_time": "2024-04-23T08:14:13.298787",
     "exception": false,
     "start_time": "2024-04-23T08:14:13.159914",
     "status": "completed"
    },
    "tags": []
   },
   "outputs": [
    {
     "data": {
      "text/html": [
       "<div>\n",
       "<style scoped>\n",
       "    .dataframe tbody tr th:only-of-type {\n",
       "        vertical-align: middle;\n",
       "    }\n",
       "\n",
       "    .dataframe tbody tr th {\n",
       "        vertical-align: top;\n",
       "    }\n",
       "\n",
       "    .dataframe thead tr th {\n",
       "        text-align: left;\n",
       "    }\n",
       "\n",
       "    .dataframe thead tr:last-of-type th {\n",
       "        text-align: right;\n",
       "    }\n",
       "</style>\n",
       "<table border=\"1\" class=\"dataframe\">\n",
       "  <thead>\n",
       "    <tr>\n",
       "      <th></th>\n",
       "      <th></th>\n",
       "      <th>mean</th>\n",
       "      <th>median</th>\n",
       "    </tr>\n",
       "    <tr>\n",
       "      <th></th>\n",
       "      <th></th>\n",
       "      <th>Duration</th>\n",
       "      <th>Duration</th>\n",
       "    </tr>\n",
       "    <tr>\n",
       "      <th>member_casual</th>\n",
       "      <th>DayOfWeek</th>\n",
       "      <th></th>\n",
       "      <th></th>\n",
       "    </tr>\n",
       "  </thead>\n",
       "  <tbody>\n",
       "    <tr>\n",
       "      <th>casual</th>\n",
       "      <th>Friday</th>\n",
       "      <td>0 days 00:18:40.753187316</td>\n",
       "      <td>0 days 00:07:44</td>\n",
       "    </tr>\n",
       "    <tr>\n",
       "      <th>member</th>\n",
       "      <th>Friday</th>\n",
       "      <td>0 days 00:11:52.500333308</td>\n",
       "      <td>0 days 00:07:05</td>\n",
       "    </tr>\n",
       "    <tr>\n",
       "      <th>casual</th>\n",
       "      <th>Monday</th>\n",
       "      <td>0 days 00:27:02.162697417</td>\n",
       "      <td>0 days 00:07:47</td>\n",
       "    </tr>\n",
       "    <tr>\n",
       "      <th>member</th>\n",
       "      <th>Monday</th>\n",
       "      <td>0 days 00:13:46.496171437</td>\n",
       "      <td>0 days 00:07:17</td>\n",
       "    </tr>\n",
       "    <tr>\n",
       "      <th>casual</th>\n",
       "      <th>Saturday</th>\n",
       "      <td>0 days 00:23:38.211102106</td>\n",
       "      <td>0 days 00:08:23</td>\n",
       "    </tr>\n",
       "    <tr>\n",
       "      <th>member</th>\n",
       "      <th>Saturday</th>\n",
       "      <td>0 days 00:13:49.938641884</td>\n",
       "      <td>0 days 00:07:31</td>\n",
       "    </tr>\n",
       "    <tr>\n",
       "      <th>casual</th>\n",
       "      <th>Sunday</th>\n",
       "      <td>0 days 00:20:44.134590655</td>\n",
       "      <td>0 days 00:07:56</td>\n",
       "    </tr>\n",
       "    <tr>\n",
       "      <th>member</th>\n",
       "      <th>Sunday</th>\n",
       "      <td>0 days 00:15:35.462225740</td>\n",
       "      <td>0 days 00:07:12</td>\n",
       "    </tr>\n",
       "    <tr>\n",
       "      <th>casual</th>\n",
       "      <th>Thursday</th>\n",
       "      <td>0 days 00:18:33.691309385</td>\n",
       "      <td>0 days 00:07:26</td>\n",
       "    </tr>\n",
       "    <tr>\n",
       "      <th>member</th>\n",
       "      <th>Thursday</th>\n",
       "      <td>0 days 00:12:16.272927432</td>\n",
       "      <td>0 days 00:07:17</td>\n",
       "    </tr>\n",
       "    <tr>\n",
       "      <th>casual</th>\n",
       "      <th>Tuesday</th>\n",
       "      <td>0 days 00:22:11.005648038</td>\n",
       "      <td>0 days 00:07:26.500000</td>\n",
       "    </tr>\n",
       "    <tr>\n",
       "      <th>member</th>\n",
       "      <th>Tuesday</th>\n",
       "      <td>0 days 00:15:05.823535721</td>\n",
       "      <td>0 days 00:07:23</td>\n",
       "    </tr>\n",
       "    <tr>\n",
       "      <th>casual</th>\n",
       "      <th>Wednesday</th>\n",
       "      <td>0 days 00:20:59.765867731</td>\n",
       "      <td>0 days 00:07:25</td>\n",
       "    </tr>\n",
       "    <tr>\n",
       "      <th>member</th>\n",
       "      <th>Wednesday</th>\n",
       "      <td>0 days 00:15:42.426456450</td>\n",
       "      <td>0 days 00:07:18</td>\n",
       "    </tr>\n",
       "  </tbody>\n",
       "</table>\n",
       "</div>"
      ],
      "text/plain": [
       "                                             mean                 median\n",
       "                                         Duration               Duration\n",
       "member_casual DayOfWeek                                                 \n",
       "casual        Friday    0 days 00:18:40.753187316        0 days 00:07:44\n",
       "member        Friday    0 days 00:11:52.500333308        0 days 00:07:05\n",
       "casual        Monday    0 days 00:27:02.162697417        0 days 00:07:47\n",
       "member        Monday    0 days 00:13:46.496171437        0 days 00:07:17\n",
       "casual        Saturday  0 days 00:23:38.211102106        0 days 00:08:23\n",
       "member        Saturday  0 days 00:13:49.938641884        0 days 00:07:31\n",
       "casual        Sunday    0 days 00:20:44.134590655        0 days 00:07:56\n",
       "member        Sunday    0 days 00:15:35.462225740        0 days 00:07:12\n",
       "casual        Thursday  0 days 00:18:33.691309385        0 days 00:07:26\n",
       "member        Thursday  0 days 00:12:16.272927432        0 days 00:07:17\n",
       "casual        Tuesday   0 days 00:22:11.005648038 0 days 00:07:26.500000\n",
       "member        Tuesday   0 days 00:15:05.823535721        0 days 00:07:23\n",
       "casual        Wednesday 0 days 00:20:59.765867731        0 days 00:07:25\n",
       "member        Wednesday 0 days 00:15:42.426456450        0 days 00:07:18"
      ]
     },
     "execution_count": 49,
     "metadata": {},
     "output_type": "execute_result"
    }
   ],
   "source": [
    "pt = clean_df.pivot_table(index=['member_casual', 'DayOfWeek'],\n",
    "                    values=['Duration'],\n",
    "                    aggfunc=['mean', 'median']).sort_values('DayOfWeek')\n",
    "\n",
    "pt.head(20)"
   ]
  },
  {
   "cell_type": "code",
   "execution_count": 50,
   "id": "79b0232b",
   "metadata": {
    "execution": {
     "iopub.execute_input": "2024-04-23T08:14:13.369985Z",
     "iopub.status.busy": "2024-04-23T08:14:13.369600Z",
     "iopub.status.idle": "2024-04-23T08:14:13.404297Z",
     "shell.execute_reply": "2024-04-23T08:14:13.403555Z"
    },
    "papermill": {
     "duration": 0.072803,
     "end_time": "2024-04-23T08:14:13.406449",
     "exception": false,
     "start_time": "2024-04-23T08:14:13.333646",
     "status": "completed"
    },
    "tags": []
   },
   "outputs": [
    {
     "data": {
      "text/html": [
       "<div>\n",
       "<style scoped>\n",
       "    .dataframe tbody tr th:only-of-type {\n",
       "        vertical-align: middle;\n",
       "    }\n",
       "\n",
       "    .dataframe tbody tr th {\n",
       "        vertical-align: top;\n",
       "    }\n",
       "\n",
       "    .dataframe thead th {\n",
       "        text-align: right;\n",
       "    }\n",
       "</style>\n",
       "<table border=\"1\" class=\"dataframe\">\n",
       "  <thead>\n",
       "    <tr style=\"text-align: right;\">\n",
       "      <th></th>\n",
       "      <th>Duration</th>\n",
       "    </tr>\n",
       "    <tr>\n",
       "      <th>DayOfWeek</th>\n",
       "      <th></th>\n",
       "    </tr>\n",
       "  </thead>\n",
       "  <tbody>\n",
       "    <tr>\n",
       "      <th>Friday</th>\n",
       "      <td>0 days 00:13:07.913707729</td>\n",
       "    </tr>\n",
       "    <tr>\n",
       "      <th>Thursday</th>\n",
       "      <td>0 days 00:13:17.566127211</td>\n",
       "    </tr>\n",
       "    <tr>\n",
       "      <th>Saturday</th>\n",
       "      <td>0 days 00:15:51.565217391</td>\n",
       "    </tr>\n",
       "    <tr>\n",
       "      <th>Monday</th>\n",
       "      <td>0 days 00:16:01.855851245</td>\n",
       "    </tr>\n",
       "    <tr>\n",
       "      <th>Tuesday</th>\n",
       "      <td>0 days 00:16:10.814113049</td>\n",
       "    </tr>\n",
       "    <tr>\n",
       "      <th>Wednesday</th>\n",
       "      <td>0 days 00:16:29.292550227</td>\n",
       "    </tr>\n",
       "    <tr>\n",
       "      <th>Sunday</th>\n",
       "      <td>0 days 00:16:39.903624161</td>\n",
       "    </tr>\n",
       "  </tbody>\n",
       "</table>\n",
       "</div>"
      ],
      "text/plain": [
       "                           Duration\n",
       "DayOfWeek                          \n",
       "Friday    0 days 00:13:07.913707729\n",
       "Thursday  0 days 00:13:17.566127211\n",
       "Saturday  0 days 00:15:51.565217391\n",
       "Monday    0 days 00:16:01.855851245\n",
       "Tuesday   0 days 00:16:10.814113049\n",
       "Wednesday 0 days 00:16:29.292550227\n",
       "Sunday    0 days 00:16:39.903624161"
      ]
     },
     "execution_count": 50,
     "metadata": {},
     "output_type": "execute_result"
    }
   ],
   "source": [
    "clean_df.pivot_table(index=['DayOfWeek'],\n",
    "                    values=['Duration'],\n",
    "                    aggfunc='mean').sort_values('Duration')"
   ]
  },
  {
   "cell_type": "markdown",
   "id": "e1e63990",
   "metadata": {
    "papermill": {
     "duration": 0.03382,
     "end_time": "2024-04-23T08:14:13.474841",
     "exception": false,
     "start_time": "2024-04-23T08:14:13.441021",
     "status": "completed"
    },
    "tags": []
   },
   "source": [
    "Interesting result as wednesday is not normally one of the days with long durations. Usually its the weekends\n",
    "### Overall, the 3 months actually differ quite a lot in their pivot tables. "
   ]
  },
  {
   "cell_type": "markdown",
   "id": "88162faa",
   "metadata": {
    "papermill": {
     "duration": 0.034255,
     "end_time": "2024-04-23T08:14:13.543660",
     "exception": false,
     "start_time": "2024-04-23T08:14:13.509405",
     "status": "completed"
    },
    "tags": []
   },
   "source": [
    "# Final Analysis with combined dataset"
   ]
  },
  {
   "cell_type": "code",
   "execution_count": 51,
   "id": "23427f5f",
   "metadata": {
    "execution": {
     "iopub.execute_input": "2024-04-23T08:14:13.614299Z",
     "iopub.status.busy": "2024-04-23T08:14:13.613916Z",
     "iopub.status.idle": "2024-04-23T08:14:13.620433Z",
     "shell.execute_reply": "2024-04-23T08:14:13.619547Z"
    },
    "papermill": {
     "duration": 0.044214,
     "end_time": "2024-04-23T08:14:13.622475",
     "exception": false,
     "start_time": "2024-04-23T08:14:13.578261",
     "status": "completed"
    },
    "tags": []
   },
   "outputs": [
    {
     "data": {
      "text/plain": [
       "'import numpy as np\\nimport pandas as pd\\nimport seaborn as sb'"
      ]
     },
     "execution_count": 51,
     "metadata": {},
     "output_type": "execute_result"
    }
   ],
   "source": [
    "'''import numpy as np\n",
    "import pandas as pd\n",
    "import seaborn as sb'''"
   ]
  },
  {
   "cell_type": "code",
   "execution_count": 52,
   "id": "efce55b0",
   "metadata": {
    "execution": {
     "iopub.execute_input": "2024-04-23T08:14:13.693386Z",
     "iopub.status.busy": "2024-04-23T08:14:13.693021Z",
     "iopub.status.idle": "2024-04-23T08:14:13.699389Z",
     "shell.execute_reply": "2024-04-23T08:14:13.698682Z"
    },
    "papermill": {
     "duration": 0.044203,
     "end_time": "2024-04-23T08:14:13.701375",
     "exception": false,
     "start_time": "2024-04-23T08:14:13.657172",
     "status": "completed"
    },
    "tags": []
   },
   "outputs": [
    {
     "data": {
      "text/plain": [
       "\"def clean_cycdata(df):\\n    # Convert columns to datetime\\n    df['Start'] = pd.to_datetime(df['started_at'])\\n    df['End'] = pd.to_datetime(df['ended_at'])\\n    # Calculate the difference\\n    df['Duration'] = df['End'] - df['Start']\\n    # Add Day of Week column\\n    df['DayOfWeek'] = df['Start'].dt.day_name()\\n    # Remove duration anomalies\\n    df = df[df['Duration'] > pd.Timedelta(seconds=30)]\\n    return df\""
      ]
     },
     "execution_count": 52,
     "metadata": {},
     "output_type": "execute_result"
    }
   ],
   "source": [
    "'''def clean_cycdata(df):\n",
    "    # Convert columns to datetime\n",
    "    df['Start'] = pd.to_datetime(df['started_at'])\n",
    "    df['End'] = pd.to_datetime(df['ended_at'])\n",
    "    # Calculate the difference\n",
    "    df['Duration'] = df['End'] - df['Start']\n",
    "    # Add Day of Week column\n",
    "    df['DayOfWeek'] = df['Start'].dt.day_name()\n",
    "    # Remove duration anomalies\n",
    "    df = df[df['Duration'] > pd.Timedelta(seconds=30)]\n",
    "    return df'''"
   ]
  },
  {
   "cell_type": "code",
   "execution_count": 53,
   "id": "738fc696",
   "metadata": {
    "execution": {
     "iopub.execute_input": "2024-04-23T08:14:13.771440Z",
     "iopub.status.busy": "2024-04-23T08:14:13.771013Z",
     "iopub.status.idle": "2024-04-23T08:14:13.777378Z",
     "shell.execute_reply": "2024-04-23T08:14:13.776682Z"
    },
    "papermill": {
     "duration": 0.044196,
     "end_time": "2024-04-23T08:14:13.779502",
     "exception": false,
     "start_time": "2024-04-23T08:14:13.735306",
     "status": "completed"
    },
    "tags": []
   },
   "outputs": [
    {
     "data": {
      "text/plain": [
       "'list_of_dfs = []  \\n\\nfor x in range(4,10):\\n    df = pd.read_csv(f\"/kaggle/input/cyclists/20230{x}-divvy-tripdata/20230{x}-divvy-tripdata.csv\")\\n    df = clean_cycdata(df)\\n    list_of_dfs.append(df)\\nfor x in range(10,13):\\n    df = pd.read_csv(f\"/kaggle/input/cyclists/2023{x}-divvy-tripdata/2023{x}-divvy-tripdata.csv\")\\n    df = clean_cycdata(df)\\n    list_of_dfs.append(df)\\nfor x in range(1,4):\\n    df = pd.read_csv(f\"/kaggle/input/cyclists/20240{x}-divvy-tripdata/20240{x}-divvy-tripdata.csv\")\\n    df = clean_cycdata(df)\\n    list_of_dfs.append(df)\\n    \\n# Concatenate all statistics DataFrames\\ncombined_df = pd.concat(list_of_dfs, keys=[f\\'Month{i+1}\\' for i in range(len(list_of_dfs))])'"
      ]
     },
     "execution_count": 53,
     "metadata": {},
     "output_type": "execute_result"
    }
   ],
   "source": [
    "'''list_of_dfs = []  \n",
    "\n",
    "for x in range(4,10):\n",
    "    df = pd.read_csv(f\"/kaggle/input/cyclists/20230{x}-divvy-tripdata/20230{x}-divvy-tripdata.csv\")\n",
    "    df = clean_cycdata(df)\n",
    "    list_of_dfs.append(df)\n",
    "for x in range(10,13):\n",
    "    df = pd.read_csv(f\"/kaggle/input/cyclists/2023{x}-divvy-tripdata/2023{x}-divvy-tripdata.csv\")\n",
    "    df = clean_cycdata(df)\n",
    "    list_of_dfs.append(df)\n",
    "for x in range(1,4):\n",
    "    df = pd.read_csv(f\"/kaggle/input/cyclists/20240{x}-divvy-tripdata/20240{x}-divvy-tripdata.csv\")\n",
    "    df = clean_cycdata(df)\n",
    "    list_of_dfs.append(df)\n",
    "    \n",
    "# Concatenate all statistics DataFrames\n",
    "combined_df = pd.concat(list_of_dfs, keys=[f'Month{i+1}' for i in range(len(list_of_dfs))])'''"
   ]
  },
  {
   "cell_type": "code",
   "execution_count": 54,
   "id": "929322ec",
   "metadata": {
    "execution": {
     "iopub.execute_input": "2024-04-23T08:14:13.851149Z",
     "iopub.status.busy": "2024-04-23T08:14:13.850757Z",
     "iopub.status.idle": "2024-04-23T08:14:13.855090Z",
     "shell.execute_reply": "2024-04-23T08:14:13.854228Z"
    },
    "papermill": {
     "duration": 0.042428,
     "end_time": "2024-04-23T08:14:13.857250",
     "exception": false,
     "start_time": "2024-04-23T08:14:13.814822",
     "status": "completed"
    },
    "tags": []
   },
   "outputs": [],
   "source": [
    "#combined_df.info()"
   ]
  },
  {
   "cell_type": "code",
   "execution_count": 55,
   "id": "56d8cd12",
   "metadata": {
    "execution": {
     "iopub.execute_input": "2024-04-23T08:14:13.929135Z",
     "iopub.status.busy": "2024-04-23T08:14:13.928780Z",
     "iopub.status.idle": "2024-04-23T08:14:13.932643Z",
     "shell.execute_reply": "2024-04-23T08:14:13.931882Z"
    },
    "papermill": {
     "duration": 0.042218,
     "end_time": "2024-04-23T08:14:13.934655",
     "exception": false,
     "start_time": "2024-04-23T08:14:13.892437",
     "status": "completed"
    },
    "tags": []
   },
   "outputs": [],
   "source": [
    "#month1_data = combined_df.loc['Month12']\n",
    "#month1_data.info()"
   ]
  },
  {
   "cell_type": "code",
   "execution_count": 56,
   "id": "8bdea51b",
   "metadata": {
    "execution": {
     "iopub.execute_input": "2024-04-23T08:14:14.007197Z",
     "iopub.status.busy": "2024-04-23T08:14:14.006794Z",
     "iopub.status.idle": "2024-04-23T08:14:14.011162Z",
     "shell.execute_reply": "2024-04-23T08:14:14.010173Z"
    },
    "papermill": {
     "duration": 0.043534,
     "end_time": "2024-04-23T08:14:14.013246",
     "exception": false,
     "start_time": "2024-04-23T08:14:13.969712",
     "status": "completed"
    },
    "tags": []
   },
   "outputs": [],
   "source": [
    "#combined_df.to_csv('combined_clean')"
   ]
  },
  {
   "cell_type": "code",
   "execution_count": 57,
   "id": "7ff1eb81",
   "metadata": {
    "execution": {
     "iopub.execute_input": "2024-04-23T08:14:14.085703Z",
     "iopub.status.busy": "2024-04-23T08:14:14.085291Z",
     "iopub.status.idle": "2024-04-23T08:14:14.089173Z",
     "shell.execute_reply": "2024-04-23T08:14:14.088553Z"
    },
    "papermill": {
     "duration": 0.04202,
     "end_time": "2024-04-23T08:14:14.090982",
     "exception": false,
     "start_time": "2024-04-23T08:14:14.048962",
     "status": "completed"
    },
    "tags": []
   },
   "outputs": [],
   "source": [
    "#combined_df.head()"
   ]
  },
  {
   "cell_type": "code",
   "execution_count": 58,
   "id": "528fc0bf",
   "metadata": {
    "execution": {
     "iopub.execute_input": "2024-04-23T08:14:14.161235Z",
     "iopub.status.busy": "2024-04-23T08:14:14.160860Z",
     "iopub.status.idle": "2024-04-23T08:14:14.165144Z",
     "shell.execute_reply": "2024-04-23T08:14:14.164165Z"
    },
    "papermill": {
     "duration": 0.042185,
     "end_time": "2024-04-23T08:14:14.167341",
     "exception": false,
     "start_time": "2024-04-23T08:14:14.125156",
     "status": "completed"
    },
    "tags": []
   },
   "outputs": [],
   "source": [
    "#final_df = pd.read_csv(\"/kaggle/input/combined-clean-cycle/combined_clean.csv\")"
   ]
  },
  {
   "cell_type": "code",
   "execution_count": 59,
   "id": "ca6ea297",
   "metadata": {
    "execution": {
     "iopub.execute_input": "2024-04-23T08:14:14.238637Z",
     "iopub.status.busy": "2024-04-23T08:14:14.238260Z",
     "iopub.status.idle": "2024-04-23T08:14:14.242622Z",
     "shell.execute_reply": "2024-04-23T08:14:14.241447Z"
    },
    "papermill": {
     "duration": 0.042834,
     "end_time": "2024-04-23T08:14:14.244634",
     "exception": false,
     "start_time": "2024-04-23T08:14:14.201800",
     "status": "completed"
    },
    "tags": []
   },
   "outputs": [],
   "source": [
    "#final_df.info()"
   ]
  },
  {
   "cell_type": "code",
   "execution_count": 60,
   "id": "d72a0b68",
   "metadata": {
    "execution": {
     "iopub.execute_input": "2024-04-23T08:14:14.318116Z",
     "iopub.status.busy": "2024-04-23T08:14:14.317745Z",
     "iopub.status.idle": "2024-04-23T08:14:14.323332Z",
     "shell.execute_reply": "2024-04-23T08:14:14.322656Z"
    },
    "papermill": {
     "duration": 0.043974,
     "end_time": "2024-04-23T08:14:14.325224",
     "exception": false,
     "start_time": "2024-04-23T08:14:14.281250",
     "status": "completed"
    },
    "tags": []
   },
   "outputs": [
    {
     "data": {
      "text/plain": [
       "\"final_df.pivot_table(index=['member_casual'],\\n                    values=['Duration'],\\n                    aggfunc='mean')\""
      ]
     },
     "execution_count": 60,
     "metadata": {},
     "output_type": "execute_result"
    }
   ],
   "source": [
    "'''final_df.pivot_table(index=['member_casual'],\n",
    "                    values=['Duration'],\n",
    "                    aggfunc='mean')'''"
   ]
  },
  {
   "cell_type": "markdown",
   "id": "2d99122c",
   "metadata": {
    "papermill": {
     "duration": 0.035128,
     "end_time": "2024-04-23T08:14:14.396389",
     "exception": false,
     "start_time": "2024-04-23T08:14:14.361261",
     "status": "completed"
    },
    "tags": []
   },
   "source": [
    "## Unfortunately, the combined 12 month data set is too big to analyse (5.5 million rows). The pivot_table takes very long to calculate"
   ]
  },
  {
   "cell_type": "markdown",
   "id": "d6fb29f0",
   "metadata": {
    "papermill": {
     "duration": 0.035162,
     "end_time": "2024-04-23T08:14:14.466419",
     "exception": false,
     "start_time": "2024-04-23T08:14:14.431257",
     "status": "completed"
    },
    "tags": []
   },
   "source": [
    "## We will try to visualise the monthly analysis "
   ]
  },
  {
   "cell_type": "code",
   "execution_count": 61,
   "id": "c3c6b3e8",
   "metadata": {
    "execution": {
     "iopub.execute_input": "2024-04-23T08:14:14.541001Z",
     "iopub.status.busy": "2024-04-23T08:14:14.539922Z",
     "iopub.status.idle": "2024-04-23T08:14:15.875954Z",
     "shell.execute_reply": "2024-04-23T08:14:15.875121Z"
    },
    "papermill": {
     "duration": 1.375996,
     "end_time": "2024-04-23T08:14:15.878374",
     "exception": false,
     "start_time": "2024-04-23T08:14:14.502378",
     "status": "completed"
    },
    "tags": []
   },
   "outputs": [],
   "source": [
    "df = pd.read_csv('/kaggle/input/cyclists/202403-divvy-tripdata/202403-divvy-tripdata.csv')"
   ]
  },
  {
   "cell_type": "code",
   "execution_count": 62,
   "id": "aa949842",
   "metadata": {
    "execution": {
     "iopub.execute_input": "2024-04-23T08:14:15.950070Z",
     "iopub.status.busy": "2024-04-23T08:14:15.949153Z",
     "iopub.status.idle": "2024-04-23T08:14:16.663913Z",
     "shell.execute_reply": "2024-04-23T08:14:16.662833Z"
    },
    "papermill": {
     "duration": 0.753759,
     "end_time": "2024-04-23T08:14:16.666903",
     "exception": false,
     "start_time": "2024-04-23T08:14:15.913144",
     "status": "completed"
    },
    "tags": []
   },
   "outputs": [
    {
     "name": "stdout",
     "output_type": "stream",
     "text": [
      "<class 'pandas.core.frame.DataFrame'>\n",
      "Index: 297262 entries, 0 to 301686\n",
      "Data columns (total 17 columns):\n",
      " #   Column              Non-Null Count   Dtype          \n",
      "---  ------              --------------   -----          \n",
      " 0   ride_id             297262 non-null  object         \n",
      " 1   rideable_type       297262 non-null  object         \n",
      " 2   started_at          297262 non-null  object         \n",
      " 3   ended_at            297262 non-null  object         \n",
      " 4   start_station_name  254318 non-null  object         \n",
      " 5   start_station_id    254318 non-null  object         \n",
      " 6   end_station_name    252165 non-null  object         \n",
      " 7   end_station_id      252165 non-null  object         \n",
      " 8   start_lat           297262 non-null  float64        \n",
      " 9   start_lng           297262 non-null  float64        \n",
      " 10  end_lat             296866 non-null  float64        \n",
      " 11  end_lng             296866 non-null  float64        \n",
      " 12  member_casual       297262 non-null  object         \n",
      " 13  Start               297262 non-null  datetime64[ns] \n",
      " 14  End                 297262 non-null  datetime64[ns] \n",
      " 15  Duration            297262 non-null  timedelta64[ns]\n",
      " 16  DayOfWeek           297262 non-null  object         \n",
      "dtypes: datetime64[ns](2), float64(4), object(10), timedelta64[ns](1)\n",
      "memory usage: 40.8+ MB\n"
     ]
    }
   ],
   "source": [
    "clean_df = clean_cycdata(df)\n",
    "clean_df.info()"
   ]
  },
  {
   "cell_type": "code",
   "execution_count": 63,
   "id": "86eb2ab7",
   "metadata": {
    "execution": {
     "iopub.execute_input": "2024-04-23T08:14:16.739448Z",
     "iopub.status.busy": "2024-04-23T08:14:16.738725Z",
     "iopub.status.idle": "2024-04-23T08:14:16.917592Z",
     "shell.execute_reply": "2024-04-23T08:14:16.916455Z"
    },
    "papermill": {
     "duration": 0.217466,
     "end_time": "2024-04-23T08:14:16.919765",
     "exception": false,
     "start_time": "2024-04-23T08:14:16.702299",
     "status": "completed"
    },
    "tags": []
   },
   "outputs": [
    {
     "data": {
      "text/html": [
       "<div>\n",
       "<style scoped>\n",
       "    .dataframe tbody tr th:only-of-type {\n",
       "        vertical-align: middle;\n",
       "    }\n",
       "\n",
       "    .dataframe tbody tr th {\n",
       "        vertical-align: top;\n",
       "    }\n",
       "\n",
       "    .dataframe thead th {\n",
       "        text-align: right;\n",
       "    }\n",
       "</style>\n",
       "<table border=\"1\" class=\"dataframe\">\n",
       "  <thead>\n",
       "    <tr style=\"text-align: right;\">\n",
       "      <th></th>\n",
       "      <th>member_casual</th>\n",
       "      <th>DayOfWeek</th>\n",
       "      <th>mean_Duration</th>\n",
       "      <th>median_Duration</th>\n",
       "    </tr>\n",
       "  </thead>\n",
       "  <tbody>\n",
       "    <tr>\n",
       "      <th>0</th>\n",
       "      <td>casual</td>\n",
       "      <td>Friday</td>\n",
       "      <td>1384.743421</td>\n",
       "      <td>0 days 00:09:52</td>\n",
       "    </tr>\n",
       "    <tr>\n",
       "      <th>1</th>\n",
       "      <td>casual</td>\n",
       "      <td>Monday</td>\n",
       "      <td>1470.477130</td>\n",
       "      <td>0 days 00:10:50</td>\n",
       "    </tr>\n",
       "    <tr>\n",
       "      <th>2</th>\n",
       "      <td>casual</td>\n",
       "      <td>Saturday</td>\n",
       "      <td>1738.868301</td>\n",
       "      <td>0 days 00:13:15</td>\n",
       "    </tr>\n",
       "    <tr>\n",
       "      <th>3</th>\n",
       "      <td>casual</td>\n",
       "      <td>Sunday</td>\n",
       "      <td>1826.045414</td>\n",
       "      <td>0 days 00:13:45</td>\n",
       "    </tr>\n",
       "    <tr>\n",
       "      <th>4</th>\n",
       "      <td>casual</td>\n",
       "      <td>Thursday</td>\n",
       "      <td>1205.129887</td>\n",
       "      <td>0 days 00:08:51</td>\n",
       "    </tr>\n",
       "    <tr>\n",
       "      <th>5</th>\n",
       "      <td>casual</td>\n",
       "      <td>Tuesday</td>\n",
       "      <td>1415.346826</td>\n",
       "      <td>0 days 00:10:02</td>\n",
       "    </tr>\n",
       "    <tr>\n",
       "      <th>6</th>\n",
       "      <td>casual</td>\n",
       "      <td>Wednesday</td>\n",
       "      <td>1161.822621</td>\n",
       "      <td>0 days 00:09:08</td>\n",
       "    </tr>\n",
       "    <tr>\n",
       "      <th>7</th>\n",
       "      <td>member</td>\n",
       "      <td>Friday</td>\n",
       "      <td>676.014033</td>\n",
       "      <td>0 days 00:07:30</td>\n",
       "    </tr>\n",
       "    <tr>\n",
       "      <th>8</th>\n",
       "      <td>member</td>\n",
       "      <td>Monday</td>\n",
       "      <td>722.454961</td>\n",
       "      <td>0 days 00:07:56</td>\n",
       "    </tr>\n",
       "    <tr>\n",
       "      <th>9</th>\n",
       "      <td>member</td>\n",
       "      <td>Saturday</td>\n",
       "      <td>806.981518</td>\n",
       "      <td>0 days 00:08:52</td>\n",
       "    </tr>\n",
       "    <tr>\n",
       "      <th>10</th>\n",
       "      <td>member</td>\n",
       "      <td>Sunday</td>\n",
       "      <td>809.598846</td>\n",
       "      <td>0 days 00:08:28</td>\n",
       "    </tr>\n",
       "    <tr>\n",
       "      <th>11</th>\n",
       "      <td>member</td>\n",
       "      <td>Thursday</td>\n",
       "      <td>687.758234</td>\n",
       "      <td>0 days 00:07:39</td>\n",
       "    </tr>\n",
       "    <tr>\n",
       "      <th>12</th>\n",
       "      <td>member</td>\n",
       "      <td>Tuesday</td>\n",
       "      <td>727.595500</td>\n",
       "      <td>0 days 00:08:01</td>\n",
       "    </tr>\n",
       "    <tr>\n",
       "      <th>13</th>\n",
       "      <td>member</td>\n",
       "      <td>Wednesday</td>\n",
       "      <td>676.654492</td>\n",
       "      <td>0 days 00:07:52</td>\n",
       "    </tr>\n",
       "  </tbody>\n",
       "</table>\n",
       "</div>"
      ],
      "text/plain": [
       "   member_casual  DayOfWeek  mean_Duration median_Duration\n",
       "0         casual     Friday    1384.743421 0 days 00:09:52\n",
       "1         casual     Monday    1470.477130 0 days 00:10:50\n",
       "2         casual   Saturday    1738.868301 0 days 00:13:15\n",
       "3         casual     Sunday    1826.045414 0 days 00:13:45\n",
       "4         casual   Thursday    1205.129887 0 days 00:08:51\n",
       "5         casual    Tuesday    1415.346826 0 days 00:10:02\n",
       "6         casual  Wednesday    1161.822621 0 days 00:09:08\n",
       "7         member     Friday     676.014033 0 days 00:07:30\n",
       "8         member     Monday     722.454961 0 days 00:07:56\n",
       "9         member   Saturday     806.981518 0 days 00:08:52\n",
       "10        member     Sunday     809.598846 0 days 00:08:28\n",
       "11        member   Thursday     687.758234 0 days 00:07:39\n",
       "12        member    Tuesday     727.595500 0 days 00:08:01\n",
       "13        member  Wednesday     676.654492 0 days 00:07:52"
      ]
     },
     "execution_count": 63,
     "metadata": {},
     "output_type": "execute_result"
    }
   ],
   "source": [
    "import pandas as pd\n",
    "import seaborn as sb\n",
    "import matplotlib.pyplot as plt\n",
    "\n",
    "# Assuming 'clean_df' is your initial DataFrame\n",
    "# Create the pivot table\n",
    "pt = clean_df.pivot_table(index=['member_casual', 'DayOfWeek'],\n",
    "                          values=['Duration'],\n",
    "                          aggfunc=['mean', 'median'])\n",
    "\n",
    "# Change Meam Duration from timedelta type to numeric for plotting\n",
    "pt[('mean', 'Duration')] = pt[('mean', 'Duration')].dt.total_seconds()\n",
    "\n",
    "# Flatten the columns for easier referencing\n",
    "pt.columns = ['_'.join(col).strip() for col in pt.columns.values]\n",
    "\n",
    "# Reset the index to make 'member_casual' and 'DayOfWeek' regular columns\n",
    "pt = pt.reset_index()\n",
    "\n",
    "pt.head(20)"
   ]
  },
  {
   "cell_type": "code",
   "execution_count": 64,
   "id": "7fecb5c5",
   "metadata": {
    "execution": {
     "iopub.execute_input": "2024-04-23T08:14:16.991434Z",
     "iopub.status.busy": "2024-04-23T08:14:16.990692Z",
     "iopub.status.idle": "2024-04-23T08:14:17.290317Z",
     "shell.execute_reply": "2024-04-23T08:14:17.288988Z"
    },
    "papermill": {
     "duration": 0.339157,
     "end_time": "2024-04-23T08:14:17.293418",
     "exception": false,
     "start_time": "2024-04-23T08:14:16.954261",
     "status": "completed"
    },
    "tags": []
   },
   "outputs": [
    {
     "data": {
      "image/png": "[encoded data removed]",
      "text/plain": [
       "<Figure size 640x480 with 1 Axes>"
      ]
     },
     "metadata": {},
     "output_type": "display_data"
    }
   ],
   "source": [
    "# Define the order of the days starting with Sunday\n",
    "days = [\"Sunday\", \"Monday\", \"Tuesday\", \"Wednesday\", \"Thursday\", \"Friday\", \"Saturday\"]\n",
    "\n",
    "# Convert 'DayOfWeek' to a categorical type with the specified order\n",
    "pt['DayOfWeek'] = pd.Categorical(pt['DayOfWeek'], categories=days, ordered=True)\n",
    "\n",
    "# Sort the DataFrame by 'DayOfWeek' (now that it's categorical with a logical order, this will work)\n",
    "pt = pt.sort_values('DayOfWeek')\n",
    "\n",
    "# Plotting\n",
    "sb.barplot(data=pt, x='DayOfWeek', y='mean_Duration', hue='member_casual')\n",
    "plt.show()"
   ]
  },
  {
   "cell_type": "code",
   "execution_count": 65,
   "id": "0440f329",
   "metadata": {
    "execution": {
     "iopub.execute_input": "2024-04-23T08:14:17.365540Z",
     "iopub.status.busy": "2024-04-23T08:14:17.364366Z",
     "iopub.status.idle": "2024-04-23T08:14:17.480254Z",
     "shell.execute_reply": "2024-04-23T08:14:17.479449Z"
    },
    "papermill": {
     "duration": 0.15419,
     "end_time": "2024-04-23T08:14:17.482628",
     "exception": false,
     "start_time": "2024-04-23T08:14:17.328438",
     "status": "completed"
    },
    "tags": []
   },
   "outputs": [],
   "source": [
    "pt = clean_df.pivot_table(index=['DayOfWeek', 'member_casual'],\n",
    "                    values=['ride_id'],\n",
    "                    aggfunc='count')"
   ]
  },
  {
   "cell_type": "code",
   "execution_count": 66,
   "id": "08a8bdf3",
   "metadata": {
    "execution": {
     "iopub.execute_input": "2024-04-23T08:14:17.556921Z",
     "iopub.status.busy": "2024-04-23T08:14:17.556495Z",
     "iopub.status.idle": "2024-04-23T08:14:17.563640Z",
     "shell.execute_reply": "2024-04-23T08:14:17.562622Z"
    },
    "papermill": {
     "duration": 0.046789,
     "end_time": "2024-04-23T08:14:17.565647",
     "exception": false,
     "start_time": "2024-04-23T08:14:17.518858",
     "status": "completed"
    },
    "tags": []
   },
   "outputs": [],
   "source": [
    "pt = pt.reset_index()\n",
    "pt = pt.rename(columns={'ride_id': 'ride_count'})"
   ]
  },
  {
   "cell_type": "code",
   "execution_count": 67,
   "id": "f03dbd5b",
   "metadata": {
    "execution": {
     "iopub.execute_input": "2024-04-23T08:14:17.636962Z",
     "iopub.status.busy": "2024-04-23T08:14:17.636561Z",
     "iopub.status.idle": "2024-04-23T08:14:17.651495Z",
     "shell.execute_reply": "2024-04-23T08:14:17.650539Z"
    },
    "papermill": {
     "duration": 0.053089,
     "end_time": "2024-04-23T08:14:17.653650",
     "exception": false,
     "start_time": "2024-04-23T08:14:17.600561",
     "status": "completed"
    },
    "tags": []
   },
   "outputs": [
    {
     "data": {
      "text/html": [
       "<div>\n",
       "<style scoped>\n",
       "    .dataframe tbody tr th:only-of-type {\n",
       "        vertical-align: middle;\n",
       "    }\n",
       "\n",
       "    .dataframe tbody tr th {\n",
       "        vertical-align: top;\n",
       "    }\n",
       "\n",
       "    .dataframe thead th {\n",
       "        text-align: right;\n",
       "    }\n",
       "</style>\n",
       "<table border=\"1\" class=\"dataframe\">\n",
       "  <thead>\n",
       "    <tr style=\"text-align: right;\">\n",
       "      <th></th>\n",
       "      <th>DayOfWeek</th>\n",
       "      <th>member_casual</th>\n",
       "      <th>ride_count</th>\n",
       "    </tr>\n",
       "  </thead>\n",
       "  <tbody>\n",
       "    <tr>\n",
       "      <th>6</th>\n",
       "      <td>Sunday</td>\n",
       "      <td>casual</td>\n",
       "      <td>14643</td>\n",
       "    </tr>\n",
       "    <tr>\n",
       "      <th>7</th>\n",
       "      <td>Sunday</td>\n",
       "      <td>member</td>\n",
       "      <td>25813</td>\n",
       "    </tr>\n",
       "    <tr>\n",
       "      <th>2</th>\n",
       "      <td>Monday</td>\n",
       "      <td>casual</td>\n",
       "      <td>10188</td>\n",
       "    </tr>\n",
       "    <tr>\n",
       "      <th>3</th>\n",
       "      <td>Monday</td>\n",
       "      <td>member</td>\n",
       "      <td>32394</td>\n",
       "    </tr>\n",
       "    <tr>\n",
       "      <th>10</th>\n",
       "      <td>Tuesday</td>\n",
       "      <td>casual</td>\n",
       "      <td>9734</td>\n",
       "    </tr>\n",
       "    <tr>\n",
       "      <th>11</th>\n",
       "      <td>Tuesday</td>\n",
       "      <td>member</td>\n",
       "      <td>34225</td>\n",
       "    </tr>\n",
       "    <tr>\n",
       "      <th>12</th>\n",
       "      <td>Wednesday</td>\n",
       "      <td>casual</td>\n",
       "      <td>8868</td>\n",
       "    </tr>\n",
       "    <tr>\n",
       "      <th>13</th>\n",
       "      <td>Wednesday</td>\n",
       "      <td>member</td>\n",
       "      <td>33212</td>\n",
       "    </tr>\n",
       "    <tr>\n",
       "      <th>8</th>\n",
       "      <td>Thursday</td>\n",
       "      <td>casual</td>\n",
       "      <td>8569</td>\n",
       "    </tr>\n",
       "    <tr>\n",
       "      <th>9</th>\n",
       "      <td>Thursday</td>\n",
       "      <td>member</td>\n",
       "      <td>30087</td>\n",
       "    </tr>\n",
       "    <tr>\n",
       "      <th>0</th>\n",
       "      <td>Friday</td>\n",
       "      <td>casual</td>\n",
       "      <td>9576</td>\n",
       "    </tr>\n",
       "    <tr>\n",
       "      <th>1</th>\n",
       "      <td>Friday</td>\n",
       "      <td>member</td>\n",
       "      <td>28148</td>\n",
       "    </tr>\n",
       "    <tr>\n",
       "      <th>4</th>\n",
       "      <td>Saturday</td>\n",
       "      <td>casual</td>\n",
       "      <td>19666</td>\n",
       "    </tr>\n",
       "    <tr>\n",
       "      <th>5</th>\n",
       "      <td>Saturday</td>\n",
       "      <td>member</td>\n",
       "      <td>32139</td>\n",
       "    </tr>\n",
       "  </tbody>\n",
       "</table>\n",
       "</div>"
      ],
      "text/plain": [
       "    DayOfWeek member_casual  ride_count\n",
       "6      Sunday        casual       14643\n",
       "7      Sunday        member       25813\n",
       "2      Monday        casual       10188\n",
       "3      Monday        member       32394\n",
       "10    Tuesday        casual        9734\n",
       "11    Tuesday        member       34225\n",
       "12  Wednesday        casual        8868\n",
       "13  Wednesday        member       33212\n",
       "8    Thursday        casual        8569\n",
       "9    Thursday        member       30087\n",
       "0      Friday        casual        9576\n",
       "1      Friday        member       28148\n",
       "4    Saturday        casual       19666\n",
       "5    Saturday        member       32139"
      ]
     },
     "execution_count": 67,
     "metadata": {},
     "output_type": "execute_result"
    }
   ],
   "source": [
    "# Define the order of the days starting with Sunday\n",
    "days = [\"Sunday\", \"Monday\", \"Tuesday\", \"Wednesday\", \"Thursday\", \"Friday\", \"Saturday\"]\n",
    "\n",
    "# Convert 'DayOfWeek' to a categorical type with the specified order\n",
    "pt['DayOfWeek'] = pd.Categorical(pt['DayOfWeek'], categories=days, ordered=True)\n",
    "pt = pt.sort_values('DayOfWeek')\n",
    "pt.head(20)"
   ]
  },
  {
   "cell_type": "code",
   "execution_count": 68,
   "id": "a9e296a5",
   "metadata": {
    "execution": {
     "iopub.execute_input": "2024-04-23T08:14:17.728350Z",
     "iopub.status.busy": "2024-04-23T08:14:17.727947Z",
     "iopub.status.idle": "2024-04-23T08:14:18.164574Z",
     "shell.execute_reply": "2024-04-23T08:14:18.163591Z"
    },
    "papermill": {
     "duration": 0.476787,
     "end_time": "2024-04-23T08:14:18.166837",
     "exception": false,
     "start_time": "2024-04-23T08:14:17.690050",
     "status": "completed"
    },
    "tags": []
   },
   "outputs": [
    {
     "data": {
      "text/plain": [
       "<Axes: xlabel='DayOfWeek', ylabel='ride_count'>"
      ]
     },
     "execution_count": 68,
     "metadata": {},
     "output_type": "execute_result"
    },
    {
     "data": {
      "image/png": "[encoded data removed]",
      "text/plain": [
       "<Figure size 640x480 with 1 Axes>"
      ]
     },
     "metadata": {},
     "output_type": "display_data"
    }
   ],
   "source": [
    "# Plotting\n",
    "sb.barplot(data=pt, x='DayOfWeek', y='ride_count', hue='member_casual')"
   ]
  },
  {
   "cell_type": "code",
   "execution_count": 69,
   "id": "d9be6d4f",
   "metadata": {
    "execution": {
     "iopub.execute_input": "2024-04-23T08:14:18.240592Z",
     "iopub.status.busy": "2024-04-23T08:14:18.239684Z",
     "iopub.status.idle": "2024-04-23T08:14:18.246251Z",
     "shell.execute_reply": "2024-04-23T08:14:18.245430Z"
    },
    "papermill": {
     "duration": 0.045911,
     "end_time": "2024-04-23T08:14:18.248512",
     "exception": false,
     "start_time": "2024-04-23T08:14:18.202601",
     "status": "completed"
    },
    "tags": []
   },
   "outputs": [],
   "source": [
    "pt.to_csv('ride_counts.csv')"
   ]
  },
  {
   "cell_type": "code",
   "execution_count": null,
   "id": "ecd7301e",
   "metadata": {
    "papermill": {
     "duration": 0.038103,
     "end_time": "2024-04-23T08:14:18.323430",
     "exception": false,
     "start_time": "2024-04-23T08:14:18.285327",
     "status": "completed"
    },
    "tags": []
   },
   "outputs": [],
   "source": []
  }
 ],
 "metadata": {
  "kaggle": {
   "accelerator": "none",
   "dataSources": [
    {
     "datasetId": 4814281,
     "sourceId": 8142485,
     "sourceType": "datasetVersion"
    }
   ],
   "dockerImageVersionId": 30615,
   "isGpuEnabled": false,
   "isInternetEnabled": true,
   "language": "python",
   "sourceType": "notebook"
  },
  "kernelspec": {
   "display_name": "Python 3",
   "language": "python",
   "name": "python3"
  },
  "language_info": {
   "codemirror_mode": {
    "name": "ipython",
    "version": 3
   },
   "file_extension": ".py",
   "mimetype": "text/x-python",
   "name": "python",
   "nbconvert_exporter": "python",
   "pygments_lexer": "ipython3",
   "version": "3.10.12"
  },
  "papermill": {
   "default_parameters": {},
   "duration": 71.047525,
   "end_time": "2024-04-23T08:14:19.682165",
   "environment_variables": {},
   "exception": null,
   "input_path": "__notebook__.ipynb",
   "output_path": "__notebook__.ipynb",
   "parameters": {},
   "start_time": "2024-04-23T08:13:08.634640",
   "version": "2.4.0"
  }
 },
 "nbformat": 4,
 "nbformat_minor": 5
}
